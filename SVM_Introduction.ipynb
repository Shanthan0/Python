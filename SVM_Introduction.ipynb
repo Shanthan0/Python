{
  "nbformat": 4,
  "nbformat_minor": 0,
  "metadata": {
    "colab": {
      "name": "SVM_Introduction.ipynb",
      "provenance": [],
      "collapsed_sections": [],
      "include_colab_link": true
    },
    "kernelspec": {
      "name": "python3",
      "display_name": "Python 3"
    },
    "language_info": {
      "name": "python"
    }
  },
  "cells": [
    {
      "cell_type": "markdown",
      "metadata": {
        "id": "view-in-github",
        "colab_type": "text"
      },
      "source": [
        "<a href=\"https://colab.research.google.com/github/Shanthan0/Python/blob/main/SVM_Introduction.ipynb\" target=\"_parent\"><img src=\"https://colab.research.google.com/assets/colab-badge.svg\" alt=\"Open In Colab\"/></a>"
      ]
    },
    {
      "cell_type": "markdown",
      "metadata": {
        "id": "erYQyGJOT0Ya"
      },
      "source": [
        "### Instructions"
      ]
    },
    {
      "cell_type": "markdown",
      "metadata": {
        "id": "Y3MP63loT5wP"
      },
      "source": [
        "#### Goal of the Project\n",
        "\n",
        "This project is designed for you to practice and solve the activities that are based on the concepts covered in the following lessons:\n",
        "\n",
        " 1. Support Vector Machines - Introduction\n",
        "\n",
        "\n",
        " "
      ]
    },
    {
      "cell_type": "markdown",
      "metadata": {
        "id": "9c6PRCvhv4PR"
      },
      "source": [
        "---"
      ]
    },
    {
      "cell_type": "markdown",
      "metadata": {
        "id": "Y8OJHhG4v5ej"
      },
      "source": [
        "### Problem Statement\n",
        "\n",
        "In this project, you are going to create a Support Vector Machine Classification model for classification of different species of Penguins.\n"
      ]
    },
    {
      "cell_type": "markdown",
      "metadata": {
        "id": "JyB9TGV-hW0j"
      },
      "source": [
        "---"
      ]
    },
    {
      "cell_type": "markdown",
      "metadata": {
        "id": "8Nwq440AVba9"
      },
      "source": [
        "### List of Activities\n",
        "\n",
        "**Activity 1:** Loading and Analysing the Dataset\n",
        " \n",
        "**Activity 2:**  Data Visualization\n",
        "\n",
        "**Activity 3:**  Support Vector Classifier - Model Training\n",
        "\n",
        "**Activity 4:** Model Prediction and Evaluation"
      ]
    },
    {
      "cell_type": "markdown",
      "metadata": {
        "id": "Gddd4cfWyEOa"
      },
      "source": [
        "---"
      ]
    },
    {
      "cell_type": "markdown",
      "metadata": {
        "id": "a25NHqeGViL3"
      },
      "source": [
        "#### Activity 1:  Analysing the Dataset\n",
        "\n",
        "\n",
        "\n",
        "You are given with the Seaborn dataset on Penguins. This dataset consists of the following columns:\n",
        "\n",
        "|Field|Description|\n",
        "|---:|:---|\n",
        "|species|Categorical; states species of the Penguin|\n",
        "|island|Categorical; states home island name for the Penguin in Antartica|\n",
        "|bill_length_mm|Numeric; Length measured from the upper edge of the beak (bill) to the base of the skull or the first feathers in mm|\n",
        "|bill_depth_mm|Numeric; Depth measure from the lower edge of the beak to the upper edge in mm|\n",
        "|flipper_length_mm|Numeric; Length of the fin of the Penguin in mm|\n",
        "|body_mass_g|Numeric; Body mass of the Penguin in grams.|\n",
        "|sex|Categorical; Gender of the Penguin|\n",
        "\n",
        "\n",
        "\n",
        " **Dataset Link:** https://s3-student-datasets-bucket.whjr.online/whitehat-ds-datasets/penguin.csv\n",
        "\n",
        "**Dataset Credits:** Python Seaborn Package \n",
        "\n",
        "**Citation** \n",
        "\n",
        "```\n",
        "Allison Marie Horst, Alison Presmanes Hill, & Kristen B Gorman. (2020). palmerpenguins: Palmer Archipelago (Antarctica) penguin data.\n",
        "\n",
        "```\n",
        "\n",
        "\n",
        "\n",
        " **1.** Load the dataset in a DataFrame\n",
        "\n",
        " **2.** Print the first five rows of the dataset. "
      ]
    },
    {
      "cell_type": "code",
      "metadata": {
        "id": "sNtMW1CCLuur",
        "colab": {
          "base_uri": "https://localhost:8080/",
          "height": 206
        },
        "outputId": "6090b995-8ba1-4265-b2f8-e534d3197ffc"
      },
      "source": [
        "# Import the required modules and load the dataset\n",
        "import pandas as pd\n",
        "# Load the DataFrame\n",
        "df = pd.read_csv('https://s3-student-datasets-bucket.whjr.online/whitehat-ds-datasets/penguin.csv')\n",
        "# Display the first five rows of the DataFrame\n",
        "df.head()"
      ],
      "execution_count": null,
      "outputs": [
        {
          "output_type": "execute_result",
          "data": {
            "text/html": [
              "\n",
              "  <div id=\"df-2c6e0613-d5d0-48ba-82b5-840dec7bfacf\">\n",
              "    <div class=\"colab-df-container\">\n",
              "      <div>\n",
              "<style scoped>\n",
              "    .dataframe tbody tr th:only-of-type {\n",
              "        vertical-align: middle;\n",
              "    }\n",
              "\n",
              "    .dataframe tbody tr th {\n",
              "        vertical-align: top;\n",
              "    }\n",
              "\n",
              "    .dataframe thead th {\n",
              "        text-align: right;\n",
              "    }\n",
              "</style>\n",
              "<table border=\"1\" class=\"dataframe\">\n",
              "  <thead>\n",
              "    <tr style=\"text-align: right;\">\n",
              "      <th></th>\n",
              "      <th>species</th>\n",
              "      <th>island</th>\n",
              "      <th>bill_length_mm</th>\n",
              "      <th>bill_depth_mm</th>\n",
              "      <th>flipper_length_mm</th>\n",
              "      <th>body_mass_g</th>\n",
              "      <th>sex</th>\n",
              "    </tr>\n",
              "  </thead>\n",
              "  <tbody>\n",
              "    <tr>\n",
              "      <th>0</th>\n",
              "      <td>Adelie</td>\n",
              "      <td>Torgersen</td>\n",
              "      <td>39.1</td>\n",
              "      <td>18.7</td>\n",
              "      <td>181.0</td>\n",
              "      <td>3750.0</td>\n",
              "      <td>Male</td>\n",
              "    </tr>\n",
              "    <tr>\n",
              "      <th>1</th>\n",
              "      <td>Adelie</td>\n",
              "      <td>Torgersen</td>\n",
              "      <td>39.5</td>\n",
              "      <td>17.4</td>\n",
              "      <td>186.0</td>\n",
              "      <td>3800.0</td>\n",
              "      <td>Female</td>\n",
              "    </tr>\n",
              "    <tr>\n",
              "      <th>2</th>\n",
              "      <td>Adelie</td>\n",
              "      <td>Torgersen</td>\n",
              "      <td>40.3</td>\n",
              "      <td>18.0</td>\n",
              "      <td>195.0</td>\n",
              "      <td>3250.0</td>\n",
              "      <td>Female</td>\n",
              "    </tr>\n",
              "    <tr>\n",
              "      <th>3</th>\n",
              "      <td>Adelie</td>\n",
              "      <td>Torgersen</td>\n",
              "      <td>NaN</td>\n",
              "      <td>NaN</td>\n",
              "      <td>NaN</td>\n",
              "      <td>NaN</td>\n",
              "      <td>NaN</td>\n",
              "    </tr>\n",
              "    <tr>\n",
              "      <th>4</th>\n",
              "      <td>Adelie</td>\n",
              "      <td>Torgersen</td>\n",
              "      <td>36.7</td>\n",
              "      <td>19.3</td>\n",
              "      <td>193.0</td>\n",
              "      <td>3450.0</td>\n",
              "      <td>Female</td>\n",
              "    </tr>\n",
              "  </tbody>\n",
              "</table>\n",
              "</div>\n",
              "      <button class=\"colab-df-convert\" onclick=\"convertToInteractive('df-2c6e0613-d5d0-48ba-82b5-840dec7bfacf')\"\n",
              "              title=\"Convert this dataframe to an interactive table.\"\n",
              "              style=\"display:none;\">\n",
              "        \n",
              "  <svg xmlns=\"http://www.w3.org/2000/svg\" height=\"24px\"viewBox=\"0 0 24 24\"\n",
              "       width=\"24px\">\n",
              "    <path d=\"M0 0h24v24H0V0z\" fill=\"none\"/>\n",
              "    <path d=\"M18.56 5.44l.94 2.06.94-2.06 2.06-.94-2.06-.94-.94-2.06-.94 2.06-2.06.94zm-11 1L8.5 8.5l.94-2.06 2.06-.94-2.06-.94L8.5 2.5l-.94 2.06-2.06.94zm10 10l.94 2.06.94-2.06 2.06-.94-2.06-.94-.94-2.06-.94 2.06-2.06.94z\"/><path d=\"M17.41 7.96l-1.37-1.37c-.4-.4-.92-.59-1.43-.59-.52 0-1.04.2-1.43.59L10.3 9.45l-7.72 7.72c-.78.78-.78 2.05 0 2.83L4 21.41c.39.39.9.59 1.41.59.51 0 1.02-.2 1.41-.59l7.78-7.78 2.81-2.81c.8-.78.8-2.07 0-2.86zM5.41 20L4 18.59l7.72-7.72 1.47 1.35L5.41 20z\"/>\n",
              "  </svg>\n",
              "      </button>\n",
              "      \n",
              "  <style>\n",
              "    .colab-df-container {\n",
              "      display:flex;\n",
              "      flex-wrap:wrap;\n",
              "      gap: 12px;\n",
              "    }\n",
              "\n",
              "    .colab-df-convert {\n",
              "      background-color: #E8F0FE;\n",
              "      border: none;\n",
              "      border-radius: 50%;\n",
              "      cursor: pointer;\n",
              "      display: none;\n",
              "      fill: #1967D2;\n",
              "      height: 32px;\n",
              "      padding: 0 0 0 0;\n",
              "      width: 32px;\n",
              "    }\n",
              "\n",
              "    .colab-df-convert:hover {\n",
              "      background-color: #E2EBFA;\n",
              "      box-shadow: 0px 1px 2px rgba(60, 64, 67, 0.3), 0px 1px 3px 1px rgba(60, 64, 67, 0.15);\n",
              "      fill: #174EA6;\n",
              "    }\n",
              "\n",
              "    [theme=dark] .colab-df-convert {\n",
              "      background-color: #3B4455;\n",
              "      fill: #D2E3FC;\n",
              "    }\n",
              "\n",
              "    [theme=dark] .colab-df-convert:hover {\n",
              "      background-color: #434B5C;\n",
              "      box-shadow: 0px 1px 3px 1px rgba(0, 0, 0, 0.15);\n",
              "      filter: drop-shadow(0px 1px 2px rgba(0, 0, 0, 0.3));\n",
              "      fill: #FFFFFF;\n",
              "    }\n",
              "  </style>\n",
              "\n",
              "      <script>\n",
              "        const buttonEl =\n",
              "          document.querySelector('#df-2c6e0613-d5d0-48ba-82b5-840dec7bfacf button.colab-df-convert');\n",
              "        buttonEl.style.display =\n",
              "          google.colab.kernel.accessAllowed ? 'block' : 'none';\n",
              "\n",
              "        async function convertToInteractive(key) {\n",
              "          const element = document.querySelector('#df-2c6e0613-d5d0-48ba-82b5-840dec7bfacf');\n",
              "          const dataTable =\n",
              "            await google.colab.kernel.invokeFunction('convertToInteractive',\n",
              "                                                     [key], {});\n",
              "          if (!dataTable) return;\n",
              "\n",
              "          const docLinkHtml = 'Like what you see? Visit the ' +\n",
              "            '<a target=\"_blank\" href=https://colab.research.google.com/notebooks/data_table.ipynb>data table notebook</a>'\n",
              "            + ' to learn more about interactive tables.';\n",
              "          element.innerHTML = '';\n",
              "          dataTable['output_type'] = 'display_data';\n",
              "          await google.colab.output.renderOutput(dataTable, element);\n",
              "          const docLink = document.createElement('div');\n",
              "          docLink.innerHTML = docLinkHtml;\n",
              "          element.appendChild(docLink);\n",
              "        }\n",
              "      </script>\n",
              "    </div>\n",
              "  </div>\n",
              "  "
            ],
            "text/plain": [
              "  species     island  bill_length_mm  ...  flipper_length_mm  body_mass_g     sex\n",
              "0  Adelie  Torgersen            39.1  ...              181.0       3750.0    Male\n",
              "1  Adelie  Torgersen            39.5  ...              186.0       3800.0  Female\n",
              "2  Adelie  Torgersen            40.3  ...              195.0       3250.0  Female\n",
              "3  Adelie  Torgersen             NaN  ...                NaN          NaN     NaN\n",
              "4  Adelie  Torgersen            36.7  ...              193.0       3450.0  Female\n",
              "\n",
              "[5 rows x 7 columns]"
            ]
          },
          "metadata": {},
          "execution_count": 314
        }
      ]
    },
    {
      "cell_type": "markdown",
      "metadata": {
        "id": "0PHm6p92tAJM"
      },
      "source": [
        "**3.** Print the information of the DataFrame."
      ]
    },
    {
      "cell_type": "code",
      "metadata": {
        "id": "OiSg9X-VIfox",
        "colab": {
          "base_uri": "https://localhost:8080/"
        },
        "outputId": "43a5addd-0508-4bba-b2c5-25fa4a4954d0"
      },
      "source": [
        "# Print the dataset information\n",
        "df.info()"
      ],
      "execution_count": null,
      "outputs": [
        {
          "output_type": "stream",
          "name": "stdout",
          "text": [
            "<class 'pandas.core.frame.DataFrame'>\n",
            "RangeIndex: 344 entries, 0 to 343\n",
            "Data columns (total 7 columns):\n",
            " #   Column             Non-Null Count  Dtype  \n",
            "---  ------             --------------  -----  \n",
            " 0   species            344 non-null    object \n",
            " 1   island             344 non-null    object \n",
            " 2   bill_length_mm     342 non-null    float64\n",
            " 3   bill_depth_mm      342 non-null    float64\n",
            " 4   flipper_length_mm  342 non-null    float64\n",
            " 5   body_mass_g        342 non-null    float64\n",
            " 6   sex                333 non-null    object \n",
            "dtypes: float64(4), object(3)\n",
            "memory usage: 18.9+ KB\n"
          ]
        }
      ]
    },
    {
      "cell_type": "markdown",
      "metadata": {
        "id": "5Wzjpm4fIoD2"
      },
      "source": [
        "**Q:** Which are the object type (categorical) columns?\n",
        "\n",
        "**A:** species, island, sex\n",
        "\n",
        "\n",
        "---\n",
        "**4.** Find the number of missing values in each column of the DataFrame"
      ]
    },
    {
      "cell_type": "code",
      "metadata": {
        "id": "HwpVptCAcMT-",
        "colab": {
          "base_uri": "https://localhost:8080/"
        },
        "outputId": "02a654d8-31bf-40ad-efec-506e6518efdf"
      },
      "source": [
        "# Print the number of missing values in each column\n",
        "df.isnull().sum()"
      ],
      "execution_count": null,
      "outputs": [
        {
          "output_type": "execute_result",
          "data": {
            "text/plain": [
              "species               0\n",
              "island                0\n",
              "bill_length_mm        2\n",
              "bill_depth_mm         2\n",
              "flipper_length_mm     2\n",
              "body_mass_g           2\n",
              "sex                  11\n",
              "dtype: int64"
            ]
          },
          "metadata": {},
          "execution_count": 316
        }
      ]
    },
    {
      "cell_type": "markdown",
      "metadata": {
        "id": "0NZcu3kWcWjm"
      },
      "source": [
        "**Q:** Are there any missing values?\n",
        "\n",
        "**A:** Yes\n",
        "\n",
        "**Q:** Which columns have missing values?\n",
        " \n",
        "**A:** `bill_length_mm`, `bill_depth_mm`, `flipper_length_mm`, `body_mass_g`, `sex`                  \n",
        "\n",
        "\n",
        "---\n",
        "\n",
        "**5.** Drop the missing values from all the columns and verify the same"
      ]
    },
    {
      "cell_type": "code",
      "metadata": {
        "id": "v1Lbdjt-dKAY",
        "colab": {
          "base_uri": "https://localhost:8080/"
        },
        "outputId": "ed321dcb-5f9b-4f39-a7f3-2b2188376fd7"
      },
      "source": [
        "# Drop the missing values and verify\n",
        "\n",
        "# Drop the NAN values\n",
        "df = df.dropna()\n",
        "# Verify the above by printing number of missing values in each column.\n",
        "df.isnull().sum()\n"
      ],
      "execution_count": null,
      "outputs": [
        {
          "output_type": "execute_result",
          "data": {
            "text/plain": [
              "species              0\n",
              "island               0\n",
              "bill_length_mm       0\n",
              "bill_depth_mm        0\n",
              "flipper_length_mm    0\n",
              "body_mass_g          0\n",
              "sex                  0\n",
              "dtype: int64"
            ]
          },
          "metadata": {},
          "execution_count": 317
        }
      ]
    },
    {
      "cell_type": "markdown",
      "metadata": {
        "id": "sih3CWX-0Afx"
      },
      "source": [
        "**6.** Print the number of occurences of each species in `species` column."
      ]
    },
    {
      "cell_type": "code",
      "metadata": {
        "id": "4X2ZC-kvk_as",
        "colab": {
          "base_uri": "https://localhost:8080/"
        },
        "outputId": "7d7355b9-4b9e-485c-bd46-723ec4e7994a"
      },
      "source": [
        "# Display the number of occurrences of each species of Penguin in the 'species' column.\n",
        "print(df['species'].value_counts())\n",
        "df.dtypes['species']"
      ],
      "execution_count": null,
      "outputs": [
        {
          "output_type": "stream",
          "name": "stdout",
          "text": [
            "Adelie       146\n",
            "Gentoo       119\n",
            "Chinstrap     68\n",
            "Name: species, dtype: int64\n"
          ]
        },
        {
          "output_type": "execute_result",
          "data": {
            "text/plain": [
              "dtype('O')"
            ]
          },
          "metadata": {},
          "execution_count": 318
        }
      ]
    },
    {
      "cell_type": "markdown",
      "metadata": {
        "id": "rs7yT-9meVOW"
      },
      "source": [
        "**Q:** What are the different species of Penguin available in the column `species`?\n",
        "\n",
        "**A:** Adelie, Gentoo, Chinstrap \n",
        "\n",
        "**Q:** What is the type of the column `species`?\n",
        "\n",
        "**A:** object\n",
        "\n",
        "---\n",
        "**7.** Add another column `Label` to the DataFrame to convert the non-numeric target column `species` into numeric. Print first five rows of DataFrame"
      ]
    },
    {
      "cell_type": "code",
      "metadata": {
        "id": "VES58qiCfxng",
        "colab": {
          "base_uri": "https://localhost:8080/",
          "height": 206
        },
        "outputId": "89e6a510-7138-422c-e777-773e31b28ba9"
      },
      "source": [
        "# Add numeric column 'label' to resemble non numeric column 'species\n",
        "species_numeric = {'Adelie':0, 'Gentoo':1, 'Chinstrap':2}\n",
        "df['label'] = df['species'].map(species_numeric)\n",
        "# Print first five rows of the DataFrame\n",
        "df.head()"
      ],
      "execution_count": null,
      "outputs": [
        {
          "output_type": "execute_result",
          "data": {
            "text/html": [
              "\n",
              "  <div id=\"df-53331f6c-add5-46cf-8f59-7b1cca69a6dd\">\n",
              "    <div class=\"colab-df-container\">\n",
              "      <div>\n",
              "<style scoped>\n",
              "    .dataframe tbody tr th:only-of-type {\n",
              "        vertical-align: middle;\n",
              "    }\n",
              "\n",
              "    .dataframe tbody tr th {\n",
              "        vertical-align: top;\n",
              "    }\n",
              "\n",
              "    .dataframe thead th {\n",
              "        text-align: right;\n",
              "    }\n",
              "</style>\n",
              "<table border=\"1\" class=\"dataframe\">\n",
              "  <thead>\n",
              "    <tr style=\"text-align: right;\">\n",
              "      <th></th>\n",
              "      <th>species</th>\n",
              "      <th>island</th>\n",
              "      <th>bill_length_mm</th>\n",
              "      <th>bill_depth_mm</th>\n",
              "      <th>flipper_length_mm</th>\n",
              "      <th>body_mass_g</th>\n",
              "      <th>sex</th>\n",
              "      <th>label</th>\n",
              "    </tr>\n",
              "  </thead>\n",
              "  <tbody>\n",
              "    <tr>\n",
              "      <th>0</th>\n",
              "      <td>Adelie</td>\n",
              "      <td>Torgersen</td>\n",
              "      <td>39.1</td>\n",
              "      <td>18.7</td>\n",
              "      <td>181.0</td>\n",
              "      <td>3750.0</td>\n",
              "      <td>Male</td>\n",
              "      <td>0</td>\n",
              "    </tr>\n",
              "    <tr>\n",
              "      <th>1</th>\n",
              "      <td>Adelie</td>\n",
              "      <td>Torgersen</td>\n",
              "      <td>39.5</td>\n",
              "      <td>17.4</td>\n",
              "      <td>186.0</td>\n",
              "      <td>3800.0</td>\n",
              "      <td>Female</td>\n",
              "      <td>0</td>\n",
              "    </tr>\n",
              "    <tr>\n",
              "      <th>2</th>\n",
              "      <td>Adelie</td>\n",
              "      <td>Torgersen</td>\n",
              "      <td>40.3</td>\n",
              "      <td>18.0</td>\n",
              "      <td>195.0</td>\n",
              "      <td>3250.0</td>\n",
              "      <td>Female</td>\n",
              "      <td>0</td>\n",
              "    </tr>\n",
              "    <tr>\n",
              "      <th>4</th>\n",
              "      <td>Adelie</td>\n",
              "      <td>Torgersen</td>\n",
              "      <td>36.7</td>\n",
              "      <td>19.3</td>\n",
              "      <td>193.0</td>\n",
              "      <td>3450.0</td>\n",
              "      <td>Female</td>\n",
              "      <td>0</td>\n",
              "    </tr>\n",
              "    <tr>\n",
              "      <th>5</th>\n",
              "      <td>Adelie</td>\n",
              "      <td>Torgersen</td>\n",
              "      <td>39.3</td>\n",
              "      <td>20.6</td>\n",
              "      <td>190.0</td>\n",
              "      <td>3650.0</td>\n",
              "      <td>Male</td>\n",
              "      <td>0</td>\n",
              "    </tr>\n",
              "  </tbody>\n",
              "</table>\n",
              "</div>\n",
              "      <button class=\"colab-df-convert\" onclick=\"convertToInteractive('df-53331f6c-add5-46cf-8f59-7b1cca69a6dd')\"\n",
              "              title=\"Convert this dataframe to an interactive table.\"\n",
              "              style=\"display:none;\">\n",
              "        \n",
              "  <svg xmlns=\"http://www.w3.org/2000/svg\" height=\"24px\"viewBox=\"0 0 24 24\"\n",
              "       width=\"24px\">\n",
              "    <path d=\"M0 0h24v24H0V0z\" fill=\"none\"/>\n",
              "    <path d=\"M18.56 5.44l.94 2.06.94-2.06 2.06-.94-2.06-.94-.94-2.06-.94 2.06-2.06.94zm-11 1L8.5 8.5l.94-2.06 2.06-.94-2.06-.94L8.5 2.5l-.94 2.06-2.06.94zm10 10l.94 2.06.94-2.06 2.06-.94-2.06-.94-.94-2.06-.94 2.06-2.06.94z\"/><path d=\"M17.41 7.96l-1.37-1.37c-.4-.4-.92-.59-1.43-.59-.52 0-1.04.2-1.43.59L10.3 9.45l-7.72 7.72c-.78.78-.78 2.05 0 2.83L4 21.41c.39.39.9.59 1.41.59.51 0 1.02-.2 1.41-.59l7.78-7.78 2.81-2.81c.8-.78.8-2.07 0-2.86zM5.41 20L4 18.59l7.72-7.72 1.47 1.35L5.41 20z\"/>\n",
              "  </svg>\n",
              "      </button>\n",
              "      \n",
              "  <style>\n",
              "    .colab-df-container {\n",
              "      display:flex;\n",
              "      flex-wrap:wrap;\n",
              "      gap: 12px;\n",
              "    }\n",
              "\n",
              "    .colab-df-convert {\n",
              "      background-color: #E8F0FE;\n",
              "      border: none;\n",
              "      border-radius: 50%;\n",
              "      cursor: pointer;\n",
              "      display: none;\n",
              "      fill: #1967D2;\n",
              "      height: 32px;\n",
              "      padding: 0 0 0 0;\n",
              "      width: 32px;\n",
              "    }\n",
              "\n",
              "    .colab-df-convert:hover {\n",
              "      background-color: #E2EBFA;\n",
              "      box-shadow: 0px 1px 2px rgba(60, 64, 67, 0.3), 0px 1px 3px 1px rgba(60, 64, 67, 0.15);\n",
              "      fill: #174EA6;\n",
              "    }\n",
              "\n",
              "    [theme=dark] .colab-df-convert {\n",
              "      background-color: #3B4455;\n",
              "      fill: #D2E3FC;\n",
              "    }\n",
              "\n",
              "    [theme=dark] .colab-df-convert:hover {\n",
              "      background-color: #434B5C;\n",
              "      box-shadow: 0px 1px 3px 1px rgba(0, 0, 0, 0.15);\n",
              "      filter: drop-shadow(0px 1px 2px rgba(0, 0, 0, 0.3));\n",
              "      fill: #FFFFFF;\n",
              "    }\n",
              "  </style>\n",
              "\n",
              "      <script>\n",
              "        const buttonEl =\n",
              "          document.querySelector('#df-53331f6c-add5-46cf-8f59-7b1cca69a6dd button.colab-df-convert');\n",
              "        buttonEl.style.display =\n",
              "          google.colab.kernel.accessAllowed ? 'block' : 'none';\n",
              "\n",
              "        async function convertToInteractive(key) {\n",
              "          const element = document.querySelector('#df-53331f6c-add5-46cf-8f59-7b1cca69a6dd');\n",
              "          const dataTable =\n",
              "            await google.colab.kernel.invokeFunction('convertToInteractive',\n",
              "                                                     [key], {});\n",
              "          if (!dataTable) return;\n",
              "\n",
              "          const docLinkHtml = 'Like what you see? Visit the ' +\n",
              "            '<a target=\"_blank\" href=https://colab.research.google.com/notebooks/data_table.ipynb>data table notebook</a>'\n",
              "            + ' to learn more about interactive tables.';\n",
              "          element.innerHTML = '';\n",
              "          dataTable['output_type'] = 'display_data';\n",
              "          await google.colab.output.renderOutput(dataTable, element);\n",
              "          const docLink = document.createElement('div');\n",
              "          docLink.innerHTML = docLinkHtml;\n",
              "          element.appendChild(docLink);\n",
              "        }\n",
              "      </script>\n",
              "    </div>\n",
              "  </div>\n",
              "  "
            ],
            "text/plain": [
              "  species     island  bill_length_mm  ...  body_mass_g     sex  label\n",
              "0  Adelie  Torgersen            39.1  ...       3750.0    Male      0\n",
              "1  Adelie  Torgersen            39.5  ...       3800.0  Female      0\n",
              "2  Adelie  Torgersen            40.3  ...       3250.0  Female      0\n",
              "4  Adelie  Torgersen            36.7  ...       3450.0  Female      0\n",
              "5  Adelie  Torgersen            39.3  ...       3650.0    Male      0\n",
              "\n",
              "[5 rows x 8 columns]"
            ]
          },
          "metadata": {},
          "execution_count": 319
        }
      ]
    },
    {
      "cell_type": "markdown",
      "metadata": {
        "id": "COeQ8ZVtge3P"
      },
      "source": [
        "**8.** Print the number of occurences of each species in `label` column."
      ]
    },
    {
      "cell_type": "code",
      "metadata": {
        "id": "9i4UH8cWge3T",
        "colab": {
          "base_uri": "https://localhost:8080/"
        },
        "outputId": "5e1a3a22-3729-485b-f0ff-99a5fdc8f9ad"
      },
      "source": [
        "# Display the number of occurrences of each species of Penguin in the 'label' column.\n",
        "df['label'].value_counts()"
      ],
      "execution_count": null,
      "outputs": [
        {
          "output_type": "execute_result",
          "data": {
            "text/plain": [
              "0    146\n",
              "1    119\n",
              "2     68\n",
              "Name: label, dtype: int64"
            ]
          },
          "metadata": {},
          "execution_count": 320
        }
      ]
    },
    {
      "cell_type": "markdown",
      "metadata": {
        "id": "Ij4nZO7age3U"
      },
      "source": [
        "**Q:** What are the different labels  available in the column `label`?\n",
        "\n",
        "**A:** 0, 1, 2\n",
        "\n",
        "---\n",
        "**9.** Convert the non-numeric columns `sex` into numeric. "
      ]
    },
    {
      "cell_type": "code",
      "metadata": {
        "id": "66oR1ByQhKoK",
        "colab": {
          "base_uri": "https://localhost:8080/"
        },
        "outputId": "02482744-e8c8-472a-f1b9-24a1089b02fc"
      },
      "source": [
        "# Convert the non-numeric column 'sex' to numeric in the DataFrame\n",
        "\n",
        "# Print the number of occurance of each label in 'sex' column\n",
        "print(df['sex'].value_counts())\n",
        "# Convert the 'sex' column to numeric\n",
        "sex_numeric = {'Male':0,'Female':1}\n",
        "df['sex'] = df['sex'].map(sex_numeric)\n",
        "# Print the number of occurance of each label in 'sex' column after converting\n",
        "print(df['sex'].value_counts())\n",
        "# Print the Datatype of teh 'sex' column\n",
        "df.dtypes['sex']"
      ],
      "execution_count": null,
      "outputs": [
        {
          "output_type": "stream",
          "name": "stdout",
          "text": [
            "Male      168\n",
            "Female    165\n",
            "Name: sex, dtype: int64\n",
            "0    168\n",
            "1    165\n",
            "Name: sex, dtype: int64\n"
          ]
        },
        {
          "output_type": "execute_result",
          "data": {
            "text/plain": [
              "dtype('int64')"
            ]
          },
          "metadata": {},
          "execution_count": 321
        }
      ]
    },
    {
      "cell_type": "markdown",
      "metadata": {
        "id": "LheLr12xcLd9"
      },
      "source": [
        "**10.** Convert the non-numeric columns `island` into numeric. "
      ]
    },
    {
      "cell_type": "code",
      "metadata": {
        "id": "COg4srNjjNxP",
        "colab": {
          "base_uri": "https://localhost:8080/"
        },
        "outputId": "c49b8332-d32a-4fc2-8267-a99a1b2c51df"
      },
      "source": [
        "# Convert the non-numeric column 'island' to numeric in the DataFrame\n",
        "\n",
        "# Print the number of occurance of each label in 'island' column\n",
        "print(df['island'].value_counts())\n",
        "# Convert the 'island' column to numeric\n",
        "island_numeric = {'Biscoe':0,'Dream':1,'Torgersen':3}\n",
        "df['island'] = df['island'].map(island_numeric)\n",
        "# Print the number of occurance of each label in 'island' column after converting\n",
        "print(df['island'].value_counts())\n",
        "# Print the Datatype of the 'island' column\n",
        "df.dtypes['island']"
      ],
      "execution_count": null,
      "outputs": [
        {
          "output_type": "stream",
          "name": "stdout",
          "text": [
            "Biscoe       163\n",
            "Dream        123\n",
            "Torgersen     47\n",
            "Name: island, dtype: int64\n",
            "0    163\n",
            "1    123\n",
            "3     47\n",
            "Name: island, dtype: int64\n"
          ]
        },
        {
          "output_type": "execute_result",
          "data": {
            "text/plain": [
              "dtype('int64')"
            ]
          },
          "metadata": {},
          "execution_count": 322
        }
      ]
    },
    {
      "cell_type": "markdown",
      "metadata": {
        "id": "c0M3NDeskCdC"
      },
      "source": [
        "**Hint:** For conversion of non-numeric columns to numeric use the `map()` function "
      ]
    },
    {
      "cell_type": "markdown",
      "metadata": {
        "id": "EALXjtgQACls"
      },
      "source": [
        "**After this activity, the dataset should be loaded in the DataFrame and the required columns should be of numeric type.**"
      ]
    },
    {
      "cell_type": "markdown",
      "metadata": {
        "id": "eAo3YbEWkPbh"
      },
      "source": [
        "---"
      ]
    },
    {
      "cell_type": "markdown",
      "metadata": {
        "id": "MQXAY3lbkQK_"
      },
      "source": [
        "#### Activity 2:  Data Visualization\n",
        "\n",
        "In this activity, you have to create scatter plots for different features and each plot differentiate between the data points of different classes (Species of the Penguin).\n",
        "\n",
        "**1.** Create a scatter plot between `bill_length_mm` and `bill_depth_mm` "
      ]
    },
    {
      "cell_type": "code",
      "metadata": {
        "id": "x8VMzayelj4w",
        "colab": {
          "base_uri": "https://localhost:8080/",
          "height": 443
        },
        "outputId": "418fa825-51a5-4999-8acc-925016794187"
      },
      "source": [
        "# Create a scatter plot between 'bill_length_mm' and 'bill_depth_mm' \n",
        "import matplotlib.pyplot as plt\n",
        "import seaborn as sns\n",
        "plt.figure(figsize = (16,7))\n",
        "sns.scatterplot(x = 'bill_length_mm', y = 'bill_depth_mm',data = df,hue = 'species')\n",
        "plt.show()"
      ],
      "execution_count": null,
      "outputs": [
        {
          "output_type": "display_data",
          "data": {
            "image/png": "[encoded data removed]",
            "text/plain": [
              "<Figure size 1152x504 with 1 Axes>"
            ]
          },
          "metadata": {
            "needs_background": "light"
          }
        }
      ]
    },
    {
      "cell_type": "markdown",
      "metadata": {
        "id": "bgHE539Fl6hv"
      },
      "source": [
        "**Q** Write your interpretation about the output of the graph.\n",
        "\n",
        "**A**  As <i>Chinstrap</i> seems to be spread wide its hard to differentiate it from other species using `bill_length` and `flipper_length`\n",
        "\n",
        "---\n",
        "**2.** Create a scatter plot between `bill_length_mm` and `flipper_length_mm`."
      ]
    },
    {
      "cell_type": "code",
      "metadata": {
        "id": "coHw3tmhl_ul",
        "colab": {
          "base_uri": "https://localhost:8080/",
          "height": 443
        },
        "outputId": "d27d825e-1f82-49a5-cb93-d7075a3d33b1"
      },
      "source": [
        "# Create a scatter plot between 'bill_length_mm' and 'flipper_length_mm' \n",
        "plt.figure(figsize = (16,7))\n",
        "sns.scatterplot(x = 'bill_length_mm', y = 'flipper_length_mm',data = df,hue = 'species')\n",
        "plt.show()"
      ],
      "execution_count": null,
      "outputs": [
        {
          "output_type": "display_data",
          "data": {
            "image/png": "[encoded data removed]",
            "text/plain": [
              "<Figure size 1152x504 with 1 Axes>"
            ]
          },
          "metadata": {
            "needs_background": "light"
          }
        }
      ]
    },
    {
      "cell_type": "markdown",
      "metadata": {
        "id": "hk--5ssbm7Sk"
      },
      "source": [
        "**Q** Write your interpretation about the output of the graph.\n",
        "\n",
        "**A** There is no much margin among the species but still can be differentiated using `bill_length` and `flipper_length`\n",
        "\n",
        "---\n",
        "\n",
        "**3.** Create a scatter plot between `bill_depth_mm` and `flipper_length_mm`."
      ]
    },
    {
      "cell_type": "code",
      "metadata": {
        "id": "CSKg2Q6pn1J9",
        "colab": {
          "base_uri": "https://localhost:8080/",
          "height": 443
        },
        "outputId": "c41cdb6e-2be4-4373-a82e-618bb6cec463"
      },
      "source": [
        "# Create a scatter plot between 'bill_depth_mm' and 'flipper_length_mm' \n",
        "plt.figure(figsize = (16,7))\n",
        "sns.scatterplot(x = 'bill_depth_mm', y = 'flipper_length_mm',data = df,hue = 'species')\n",
        "plt.show()"
      ],
      "execution_count": null,
      "outputs": [
        {
          "output_type": "display_data",
          "data": {
            "image/png": "[encoded data removed]",
            "text/plain": [
              "<Figure size 1152x504 with 1 Axes>"
            ]
          },
          "metadata": {
            "needs_background": "light"
          }
        }
      ]
    },
    {
      "cell_type": "markdown",
      "metadata": {
        "id": "z5Ib6V5xn063"
      },
      "source": [
        "**Q** Write your interpretation about the output of the graph.\n",
        "\n",
        "**A** <i>Gentoo</i> can be differentiated using with `bill_depth` and `flipper_length` but <i>Chinstrap</i> and <i>Gentoo</i> overlap each other\n",
        "\n"
      ]
    },
    {
      "cell_type": "markdown",
      "metadata": {
        "id": "_3bCPg9dofPL"
      },
      "source": [
        "**After this activity, the relation between the independent features of Penguins and their speicies should be recognised. Also, student can create more such Visualization for understanding the relation between rest of the columns**"
      ]
    },
    {
      "cell_type": "markdown",
      "metadata": {
        "id": "o_DgcmiVo0Xg"
      },
      "source": [
        "---"
      ]
    },
    {
      "cell_type": "markdown",
      "metadata": {
        "id": "uDTmlU-Mz0fI"
      },
      "source": [
        "#### Activity 3: Train-Test Split\n",
        " \n",
        "We need to predict the value of the `label` variable, using other variables to predict the species of the Penguin. Thus, `label` is the dependent variable and `island`, `bill_length_mm`, `bill_depth_mm`, `flipper_length_mm`, `body_mass_g`, `sex` columns are the independent variables.\n",
        " \n",
        "**1.** Split the dataset into the training set and test set such that the testing set contains 33% of the instances and the remaining instances will become the training set.\n",
        "\n",
        "**2.** Set `random_state = 42`."
      ]
    },
    {
      "cell_type": "code",
      "metadata": {
        "id": "bOCy3HzGpfmD"
      },
      "source": [
        "# Split the data into Training and Testing set\n",
        "\n",
        "# Import all the libraries\n",
        "from sklearn.model_selection import train_test_split\n",
        "# Create X and y variables\n",
        "x = df.iloc[:,2:]\n",
        "y = df['label']\n",
        "# Split the data into training and testing sets\n",
        "x_train,x_test,y_train,y_test = train_test_split(x,y,test_size = 0.3,random_state =42)"
      ],
      "execution_count": null,
      "outputs": []
    },
    {
      "cell_type": "markdown",
      "metadata": {
        "id": "Rpgp9jyYld-C"
      },
      "source": [
        "**After this activity, the features and target data should be splitted into training and testing data.**"
      ]
    },
    {
      "cell_type": "markdown",
      "metadata": {
        "id": "dtf4_VHfppVw"
      },
      "source": [
        "---"
      ]
    },
    {
      "cell_type": "markdown",
      "metadata": {
        "id": "9hn9AfqoY7DE"
      },
      "source": [
        "#### Activity 4: Support Vector Classifier - Model Training \n",
        "\n",
        "Implement Linear Support Vector Classification using `sklearn.svm` module in the following way:\n",
        "\n",
        "1. Deploy the model by importing the `SVC` class and create an object of this class.\n",
        "2. Call the `fit()` function on the Support Vector Classifier object and print the score using the `score()` function.\n"
      ]
    },
    {
      "cell_type": "code",
      "metadata": {
        "id": "puROedqsqC1u",
        "colab": {
          "base_uri": "https://localhost:8080/"
        },
        "outputId": "a9414a8b-0309-4484-ba8e-4cbd4e083d3a"
      },
      "source": [
        "# Build a SVC model using the 'sklearn' module.\n",
        "from sklearn.svm import SVC\n",
        "\n",
        "# 1. First, call the linear 'SVC' module and store it in a variable.\n",
        "svc = SVC(kernel = 'linear')\n",
        "# 2. Call the 'fit()' function with 'x_train' and 'y_train' as inputs.\n",
        "svc.fit(x,y)\n",
        "\n",
        "# 3. Call the 'score()' function with 'x_train' and 'y_train' as inputs to check the accuracy score of the model.\n",
        "svc.score(x_train,y_train)"
      ],
      "execution_count": null,
      "outputs": [
        {
          "output_type": "execute_result",
          "data": {
            "text/plain": [
              "1.0"
            ]
          },
          "metadata": {},
          "execution_count": 327
        }
      ]
    },
    {
      "cell_type": "markdown",
      "metadata": {
        "id": "oQubDbGAqaay"
      },
      "source": [
        "**Q** What is the accuracy score?\n",
        "\n",
        "**A** 1"
      ]
    },
    {
      "cell_type": "markdown",
      "metadata": {
        "id": "JlrL_FLjAUzx"
      },
      "source": [
        "**After this activity, a SVC model object should be trained for multiclass classification.**"
      ]
    },
    {
      "cell_type": "markdown",
      "metadata": {
        "id": "UAil-ljYq46E"
      },
      "source": [
        "---"
      ]
    },
    {
      "cell_type": "markdown",
      "metadata": {
        "id": "4J0gTaZrZoeK"
      },
      "source": [
        "#### Activity 5: Model Prediction and Evaluation \n",
        "\n",
        "In this activity, you will make predictions for training and testing set and evaluate the model\n",
        "\n",
        "**1.** Predict the values for training set by calling the `predict()` function on the Logistic Regression object.\n",
        "\n",
        "**2.** Print the distribution of the labels predicted in the predicted target series for the training features.\n"
      ]
    },
    {
      "cell_type": "code",
      "metadata": {
        "id": "WfJhe8nxiRPl",
        "colab": {
          "base_uri": "https://localhost:8080/"
        },
        "outputId": "a8f78b15-e5c5-47fd-99f2-64238dca79df"
      },
      "source": [
        "# Make predictions on the train dataset by using the 'predict()' function.\n",
        "\n",
        "# Compute the predictions\n",
        "y_train_pred = pd.Series(svc.predict(x_train))\n",
        "# Print the occurrence of each type computed in the predictions.\n",
        "y_train_pred.value_counts()"
      ],
      "execution_count": null,
      "outputs": [
        {
          "output_type": "execute_result",
          "data": {
            "text/plain": [
              "0    98\n",
              "1    85\n",
              "2    50\n",
              "dtype: int64"
            ]
          },
          "metadata": {},
          "execution_count": 328
        }
      ]
    },
    {
      "cell_type": "markdown",
      "metadata": {
        "id": "qQvRF-Farf7t"
      },
      "source": [
        "**Q:** Are all the label values predicted for the training features data?\n",
        "\n",
        "**A:** Yes\n",
        "\n",
        "\n",
        "---\n",
        "**3.** Predict the values for testing set by calling the `predict()` function on the Logistic Regression object.\n",
        "\n",
        "**4.** Print the distribution of the labels predicted in the predicted target series for the testing features."
      ]
    },
    {
      "cell_type": "code",
      "metadata": {
        "id": "o6LEGsskrtol",
        "colab": {
          "base_uri": "https://localhost:8080/"
        },
        "outputId": "963f70f3-bfc8-4ff1-83b9-6fc990e6b2c0"
      },
      "source": [
        "#Make predictions on the test dataset by using the 'predict()' function.\n",
        "# Compute the predictions\n",
        "\n",
        "y_test_pred = pd.Series(svc.predict(x_test))\n",
        "# Print the occurrence of each Penguin type computed in the predictions.\n",
        "y_test_pred.value_counts()"
      ],
      "execution_count": null,
      "outputs": [
        {
          "output_type": "execute_result",
          "data": {
            "text/plain": [
              "0    48\n",
              "1    34\n",
              "2    18\n",
              "dtype: int64"
            ]
          },
          "metadata": {},
          "execution_count": 329
        }
      ]
    },
    {
      "cell_type": "markdown",
      "metadata": {
        "id": "xQE5DvUU-gvM"
      },
      "source": [
        "**Q:** Are all the labels predicted for the test features data?\n",
        "\n",
        "**A:** Yes\n",
        "---\n",
        "**5.** Display the confusion matrix for the test set:\n"
      ]
    },
    {
      "cell_type": "code",
      "metadata": {
        "id": "eV0xbGtNoY80",
        "colab": {
          "base_uri": "https://localhost:8080/"
        },
        "outputId": "690128bc-33c5-4b4c-dd5b-b08c3f5cb266"
      },
      "source": [
        "# Print the confusion matrix for the actual and predicted data of the test set \n",
        "from sklearn.metrics import confusion_matrix, classification_report\n",
        "print(confusion_matrix(y_test,y_test_pred))"
      ],
      "execution_count": null,
      "outputs": [
        {
          "output_type": "stream",
          "name": "stdout",
          "text": [
            "[[48  0  0]\n",
            " [ 0 34  0]\n",
            " [ 0  0 18]]\n"
          ]
        }
      ]
    },
    {
      "cell_type": "markdown",
      "metadata": {
        "id": "nzeGPULe-3Tn"
      },
      "source": [
        "**Q** Are there any False Positives or False Negatives?\n",
        "\n",
        "**A** No\n",
        "\n",
        "---\n",
        "\n",
        "**6.** Display the classification report for the test set:"
      ]
    },
    {
      "cell_type": "code",
      "metadata": {
        "id": "6d1cVFQ0osXX",
        "colab": {
          "base_uri": "https://localhost:8080/"
        },
        "outputId": "af5caaee-b840-4802-dd98-8d4f62cefbbe"
      },
      "source": [
        "# Print the classification report for the actual and predicted data of the testing set (if required)\n",
        "print(classification_report(y_test,y_test_pred))"
      ],
      "execution_count": null,
      "outputs": [
        {
          "output_type": "stream",
          "name": "stdout",
          "text": [
            "              precision    recall  f1-score   support\n",
            "\n",
            "           0       1.00      1.00      1.00        48\n",
            "           1       1.00      1.00      1.00        34\n",
            "           2       1.00      1.00      1.00        18\n",
            "\n",
            "    accuracy                           1.00       100\n",
            "   macro avg       1.00      1.00      1.00       100\n",
            "weighted avg       1.00      1.00      1.00       100\n",
            "\n"
          ]
        }
      ]
    },
    {
      "cell_type": "markdown",
      "metadata": {
        "id": "wmFwyIqmsJnF"
      },
      "source": [
        "**Q** What is the f1-score for all the labels?\n",
        "\n",
        "**A** 1"
      ]
    },
    {
      "cell_type": "markdown",
      "metadata": {
        "id": "E7TzNuyCA1Dp"
      },
      "source": [
        "**After this activity, labels should be predicted for the target columns using test features set and the model should be evaluated for the same.**"
      ]
    },
    {
      "cell_type": "markdown",
      "metadata": {
        "id": "_MjqVw93--Ir"
      },
      "source": [
        "---"
      ]
    },
    {
      "cell_type": "markdown",
      "metadata": {
        "id": "_Tw7uK1ndut5"
      },
      "source": [
        "**Write your interpretation of the results here.**\n",
        "\n",
        "- Interpretation 1: \n",
        "\n",
        "- Interpretation 2: "
      ]
    },
    {
      "cell_type": "markdown",
      "metadata": {
        "id": "GVKiz6k6vxMe"
      },
      "source": [
        "---"
      ]
    }
  ]
}