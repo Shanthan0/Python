{
  "nbformat": 4,
  "nbformat_minor": 0,
  "metadata": {
    "colab": {
      "name": "House Price Prediction.ipynb",
      "provenance": [],
      "collapsed_sections": [],
      "include_colab_link": true
    },
    "kernelspec": {
      "name": "python3",
      "display_name": "Python 3"
    }
  },
  "cells": [
    {
      "cell_type": "markdown",
      "metadata": {
        "id": "view-in-github",
        "colab_type": "text"
      },
      "source": [
        "<a href=\"https://colab.research.google.com/github/Shanthan0/Python/blob/main/House_Price_Prediction.ipynb\" target=\"_parent\"><img src=\"https://colab.research.google.com/assets/colab-badge.svg\" alt=\"Open In Colab\"/></a>"
      ]
    },
    {
      "cell_type": "markdown",
      "metadata": {
        "id": "3dc3dzDzkNxM"
      },
      "source": [
        "# Capstone Project 16: House Price Prediction "
      ]
    },
    {
      "cell_type": "markdown",
      "metadata": {
        "id": "2USdj0Fcp1PA"
      },
      "source": [
        "---"
      ]
    },
    {
      "cell_type": "markdown",
      "metadata": {
        "id": "NZkuR4JIp122"
      },
      "source": [
        "### Context\n",
        "\n",
        "The price of the house depends on various factors like locality, connectivity, number of rooms, etc. Change in the mindset of the millennial generation also contributes to ups and down in house prices as the young generation is much into renting than to owe a house. Predicting the right price of the house is important for investors in the real estate business. This makes it very important to come up with proper and smart technique to estimate the true price of the house. \n",
        " "
      ]
    },
    {
      "cell_type": "markdown",
      "metadata": {
        "id": "bhlNrfRasTmn"
      },
      "source": [
        "---"
      ]
    },
    {
      "cell_type": "markdown",
      "metadata": {
        "id": "Kb7u6oKHsYD8"
      },
      "source": [
        "### Problem Statement\n",
        "\n",
        "\n",
        "You are willing to sell your house. You are not sure about the price of your house and want to estimate its price. You are provided with the dataset and need to make a prediction model which will help you to get a good estimate of your house for selling it. "
      ]
    },
    {
      "cell_type": "markdown",
      "metadata": {
        "id": "Ej0iNrOfw5mO"
      },
      "source": [
        "---"
      ]
    },
    {
      "cell_type": "markdown",
      "metadata": {
        "id": "ywFr5pfow8Gc"
      },
      "source": [
        "### Data Description\n",
        "\n",
        "The **housing** dataset contains the prices and other attributes. There are $545$ rows and $12$ attributes (features) with a target column (price). \n",
        "\n",
        "Following are the features:  \n",
        "\n",
        "|Column|Description|\n",
        "|---:|:---|\n",
        "|`Price`|Price in INR|\n",
        "|`area`|Area in square ft.|\n",
        "|`bedrooms`|Number of bedrooms in the house|\n",
        "|`bathrooms`|Number of bathrooms in the house|\n",
        "|`stories`|Number of stores in the house|\n",
        "|`mainroad`|Whether house is on main road or not(binary)|\n",
        "|`guestroom`|Whether house have guestroom or not(binary)|\n",
        "|`basement`|Whether house have basement or not(binary)|\n",
        "|`airconditioning`|Whether house have airconditioning or not(binary)|\n",
        "|`hotwaterheating`|Whether house have hotwaterheating or not(binary)|\n",
        "|`parking`|Number of parking area|\n",
        "|`prefarea`|Whether house have prefarea or not(binary)|\n",
        "|`furnishingstatus`|Furnish status of the house|\n",
        "\n",
        "\n",
        "  **Dataset Link:**  https://student-datasets-bucket.s3.ap-south-1.amazonaws.com/whitehat-ds-datasets/house-prices.csv\n"
      ]
    },
    {
      "cell_type": "markdown",
      "metadata": {
        "id": "m3-VjFOyqdvo"
      },
      "source": [
        "---"
      ]
    },
    {
      "cell_type": "markdown",
      "metadata": {
        "id": "2iZ9tHdX647b"
      },
      "source": [
        "### Things To Do\n",
        "\n",
        "1. Explore the Housing dataset by creating the following plots:\n",
        "   - Box plots between each categorical feature and the `price`.\n",
        "   - Scatter plots between the numerical features and the `price`.\n",
        "   \n",
        "2. Convert categorical attributes into numerical attributes using feature encoding.\n",
        "\n",
        "3. Build a linear regression model by selecting the most relevant features to predict the price of houses.\n",
        "\n",
        "4. Evaluate the linear regression model by calculating the parameters such as coefficient of determination, MAE, MSE, RMSE, mean of residuals and by checking for homoscedasticity.\n",
        "\n"
      ]
    },
    {
      "cell_type": "markdown",
      "metadata": {
        "id": "W4fE-t4Rr2CT"
      },
      "source": [
        "---"
      ]
    },
    {
      "cell_type": "markdown",
      "metadata": {
        "id": "e0IW5qmC2Aaa"
      },
      "source": [
        "#### 1. Import Modules and Load Dataset\n",
        "\n",
        "**Dataset Link:** https://student-datasets-bucket.s3.ap-south-1.amazonaws.com/whitehat-ds-datasets/house-prices.csv\n",
        "\n",
        "\n",
        "\n",
        "\n",
        "\n",
        "\n"
      ]
    },
    {
      "cell_type": "code",
      "metadata": {
        "id": "4NKi_-YIxTcL",
        "colab": {
          "base_uri": "https://localhost:8080/",
          "height": 206
        },
        "outputId": "cf368257-7a6e-4ca8-c8e8-c617d0a9dd17"
      },
      "source": [
        "# Import the required modules and load the dataset.\n",
        "import pandas as pd\n",
        "import numpy as np\n",
        "import matplotlib.pyplot as plt\n",
        "import seaborn as sns\n",
        "\n",
        "df = pd.read_csv('https://student-datasets-bucket.s3.ap-south-1.amazonaws.com/whitehat-ds-datasets/house-prices.csv')\n",
        "df.head()"
      ],
      "execution_count": null,
      "outputs": [
        {
          "output_type": "execute_result",
          "data": {
            "text/html": [
              "\n",
              "  <div id=\"df-b81d5905-82f5-4b5d-9f90-b205f16ebc18\">\n",
              "    <div class=\"colab-df-container\">\n",
              "      <div>\n",
              "<style scoped>\n",
              "    .dataframe tbody tr th:only-of-type {\n",
              "        vertical-align: middle;\n",
              "    }\n",
              "\n",
              "    .dataframe tbody tr th {\n",
              "        vertical-align: top;\n",
              "    }\n",
              "\n",
              "    .dataframe thead th {\n",
              "        text-align: right;\n",
              "    }\n",
              "</style>\n",
              "<table border=\"1\" class=\"dataframe\">\n",
              "  <thead>\n",
              "    <tr style=\"text-align: right;\">\n",
              "      <th></th>\n",
              "      <th>price</th>\n",
              "      <th>area</th>\n",
              "      <th>bedrooms</th>\n",
              "      <th>bathrooms</th>\n",
              "      <th>stories</th>\n",
              "      <th>mainroad</th>\n",
              "      <th>guestroom</th>\n",
              "      <th>basement</th>\n",
              "      <th>hotwaterheating</th>\n",
              "      <th>airconditioning</th>\n",
              "      <th>parking</th>\n",
              "      <th>prefarea</th>\n",
              "      <th>furnishingstatus</th>\n",
              "    </tr>\n",
              "  </thead>\n",
              "  <tbody>\n",
              "    <tr>\n",
              "      <th>0</th>\n",
              "      <td>13300000</td>\n",
              "      <td>7420</td>\n",
              "      <td>4</td>\n",
              "      <td>2</td>\n",
              "      <td>3</td>\n",
              "      <td>yes</td>\n",
              "      <td>no</td>\n",
              "      <td>no</td>\n",
              "      <td>no</td>\n",
              "      <td>yes</td>\n",
              "      <td>2</td>\n",
              "      <td>yes</td>\n",
              "      <td>furnished</td>\n",
              "    </tr>\n",
              "    <tr>\n",
              "      <th>1</th>\n",
              "      <td>12250000</td>\n",
              "      <td>8960</td>\n",
              "      <td>4</td>\n",
              "      <td>4</td>\n",
              "      <td>4</td>\n",
              "      <td>yes</td>\n",
              "      <td>no</td>\n",
              "      <td>no</td>\n",
              "      <td>no</td>\n",
              "      <td>yes</td>\n",
              "      <td>3</td>\n",
              "      <td>no</td>\n",
              "      <td>furnished</td>\n",
              "    </tr>\n",
              "    <tr>\n",
              "      <th>2</th>\n",
              "      <td>12250000</td>\n",
              "      <td>9960</td>\n",
              "      <td>3</td>\n",
              "      <td>2</td>\n",
              "      <td>2</td>\n",
              "      <td>yes</td>\n",
              "      <td>no</td>\n",
              "      <td>yes</td>\n",
              "      <td>no</td>\n",
              "      <td>no</td>\n",
              "      <td>2</td>\n",
              "      <td>yes</td>\n",
              "      <td>semi-furnished</td>\n",
              "    </tr>\n",
              "    <tr>\n",
              "      <th>3</th>\n",
              "      <td>12215000</td>\n",
              "      <td>7500</td>\n",
              "      <td>4</td>\n",
              "      <td>2</td>\n",
              "      <td>2</td>\n",
              "      <td>yes</td>\n",
              "      <td>no</td>\n",
              "      <td>yes</td>\n",
              "      <td>no</td>\n",
              "      <td>yes</td>\n",
              "      <td>3</td>\n",
              "      <td>yes</td>\n",
              "      <td>furnished</td>\n",
              "    </tr>\n",
              "    <tr>\n",
              "      <th>4</th>\n",
              "      <td>11410000</td>\n",
              "      <td>7420</td>\n",
              "      <td>4</td>\n",
              "      <td>1</td>\n",
              "      <td>2</td>\n",
              "      <td>yes</td>\n",
              "      <td>yes</td>\n",
              "      <td>yes</td>\n",
              "      <td>no</td>\n",
              "      <td>yes</td>\n",
              "      <td>2</td>\n",
              "      <td>no</td>\n",
              "      <td>furnished</td>\n",
              "    </tr>\n",
              "  </tbody>\n",
              "</table>\n",
              "</div>\n",
              "      <button class=\"colab-df-convert\" onclick=\"convertToInteractive('df-b81d5905-82f5-4b5d-9f90-b205f16ebc18')\"\n",
              "              title=\"Convert this dataframe to an interactive table.\"\n",
              "              style=\"display:none;\">\n",
              "        \n",
              "  <svg xmlns=\"http://www.w3.org/2000/svg\" height=\"24px\"viewBox=\"0 0 24 24\"\n",
              "       width=\"24px\">\n",
              "    <path d=\"M0 0h24v24H0V0z\" fill=\"none\"/>\n",
              "    <path d=\"M18.56 5.44l.94 2.06.94-2.06 2.06-.94-2.06-.94-.94-2.06-.94 2.06-2.06.94zm-11 1L8.5 8.5l.94-2.06 2.06-.94-2.06-.94L8.5 2.5l-.94 2.06-2.06.94zm10 10l.94 2.06.94-2.06 2.06-.94-2.06-.94-.94-2.06-.94 2.06-2.06.94z\"/><path d=\"M17.41 7.96l-1.37-1.37c-.4-.4-.92-.59-1.43-.59-.52 0-1.04.2-1.43.59L10.3 9.45l-7.72 7.72c-.78.78-.78 2.05 0 2.83L4 21.41c.39.39.9.59 1.41.59.51 0 1.02-.2 1.41-.59l7.78-7.78 2.81-2.81c.8-.78.8-2.07 0-2.86zM5.41 20L4 18.59l7.72-7.72 1.47 1.35L5.41 20z\"/>\n",
              "  </svg>\n",
              "      </button>\n",
              "      \n",
              "  <style>\n",
              "    .colab-df-container {\n",
              "      display:flex;\n",
              "      flex-wrap:wrap;\n",
              "      gap: 12px;\n",
              "    }\n",
              "\n",
              "    .colab-df-convert {\n",
              "      background-color: #E8F0FE;\n",
              "      border: none;\n",
              "      border-radius: 50%;\n",
              "      cursor: pointer;\n",
              "      display: none;\n",
              "      fill: #1967D2;\n",
              "      height: 32px;\n",
              "      padding: 0 0 0 0;\n",
              "      width: 32px;\n",
              "    }\n",
              "\n",
              "    .colab-df-convert:hover {\n",
              "      background-color: #E2EBFA;\n",
              "      box-shadow: 0px 1px 2px rgba(60, 64, 67, 0.3), 0px 1px 3px 1px rgba(60, 64, 67, 0.15);\n",
              "      fill: #174EA6;\n",
              "    }\n",
              "\n",
              "    [theme=dark] .colab-df-convert {\n",
              "      background-color: #3B4455;\n",
              "      fill: #D2E3FC;\n",
              "    }\n",
              "\n",
              "    [theme=dark] .colab-df-convert:hover {\n",
              "      background-color: #434B5C;\n",
              "      box-shadow: 0px 1px 3px 1px rgba(0, 0, 0, 0.15);\n",
              "      filter: drop-shadow(0px 1px 2px rgba(0, 0, 0, 0.3));\n",
              "      fill: #FFFFFF;\n",
              "    }\n",
              "  </style>\n",
              "\n",
              "      <script>\n",
              "        const buttonEl =\n",
              "          document.querySelector('#df-b81d5905-82f5-4b5d-9f90-b205f16ebc18 button.colab-df-convert');\n",
              "        buttonEl.style.display =\n",
              "          google.colab.kernel.accessAllowed ? 'block' : 'none';\n",
              "\n",
              "        async function convertToInteractive(key) {\n",
              "          const element = document.querySelector('#df-b81d5905-82f5-4b5d-9f90-b205f16ebc18');\n",
              "          const dataTable =\n",
              "            await google.colab.kernel.invokeFunction('convertToInteractive',\n",
              "                                                     [key], {});\n",
              "          if (!dataTable) return;\n",
              "\n",
              "          const docLinkHtml = 'Like what you see? Visit the ' +\n",
              "            '<a target=\"_blank\" href=https://colab.research.google.com/notebooks/data_table.ipynb>data table notebook</a>'\n",
              "            + ' to learn more about interactive tables.';\n",
              "          element.innerHTML = '';\n",
              "          dataTable['output_type'] = 'display_data';\n",
              "          await google.colab.output.renderOutput(dataTable, element);\n",
              "          const docLink = document.createElement('div');\n",
              "          docLink.innerHTML = docLinkHtml;\n",
              "          element.appendChild(docLink);\n",
              "        }\n",
              "      </script>\n",
              "    </div>\n",
              "  </div>\n",
              "  "
            ],
            "text/plain": [
              "      price  area  bedrooms  ...  parking  prefarea furnishingstatus\n",
              "0  13300000  7420         4  ...        2       yes        furnished\n",
              "1  12250000  8960         4  ...        3        no        furnished\n",
              "2  12250000  9960         3  ...        2       yes   semi-furnished\n",
              "3  12215000  7500         4  ...        3       yes        furnished\n",
              "4  11410000  7420         4  ...        2        no        furnished\n",
              "\n",
              "[5 rows x 13 columns]"
            ]
          },
          "metadata": {},
          "execution_count": 468
        }
      ]
    },
    {
      "cell_type": "code",
      "metadata": {
        "id": "8IXJUhvx1Omc",
        "colab": {
          "base_uri": "https://localhost:8080/"
        },
        "outputId": "483bc5f3-9e1a-4de1-b13d-8bd372fef121"
      },
      "source": [
        "# Get the information on DataFrame.\n",
        "df.info()"
      ],
      "execution_count": null,
      "outputs": [
        {
          "output_type": "stream",
          "name": "stdout",
          "text": [
            "<class 'pandas.core.frame.DataFrame'>\n",
            "RangeIndex: 545 entries, 0 to 544\n",
            "Data columns (total 13 columns):\n",
            " #   Column            Non-Null Count  Dtype \n",
            "---  ------            --------------  ----- \n",
            " 0   price             545 non-null    int64 \n",
            " 1   area              545 non-null    int64 \n",
            " 2   bedrooms          545 non-null    int64 \n",
            " 3   bathrooms         545 non-null    int64 \n",
            " 4   stories           545 non-null    int64 \n",
            " 5   mainroad          545 non-null    object\n",
            " 6   guestroom         545 non-null    object\n",
            " 7   basement          545 non-null    object\n",
            " 8   hotwaterheating   545 non-null    object\n",
            " 9   airconditioning   545 non-null    object\n",
            " 10  parking           545 non-null    int64 \n",
            " 11  prefarea          545 non-null    object\n",
            " 12  furnishingstatus  545 non-null    object\n",
            "dtypes: int64(6), object(7)\n",
            "memory usage: 55.5+ KB\n"
          ]
        }
      ]
    },
    {
      "cell_type": "code",
      "metadata": {
        "id": "HB5wwgC1fO7Q",
        "colab": {
          "base_uri": "https://localhost:8080/"
        },
        "outputId": "886f2b7c-1de8-48a6-b376-613af7bdc99a"
      },
      "source": [
        "# Check if there are any NULL values.\n",
        "df.isnull().sum()"
      ],
      "execution_count": null,
      "outputs": [
        {
          "output_type": "execute_result",
          "data": {
            "text/plain": [
              "price               0\n",
              "area                0\n",
              "bedrooms            0\n",
              "bathrooms           0\n",
              "stories             0\n",
              "mainroad            0\n",
              "guestroom           0\n",
              "basement            0\n",
              "hotwaterheating     0\n",
              "airconditioning     0\n",
              "parking             0\n",
              "prefarea            0\n",
              "furnishingstatus    0\n",
              "dtype: int64"
            ]
          },
          "metadata": {},
          "execution_count": 470
        }
      ]
    },
    {
      "cell_type": "markdown",
      "metadata": {
        "id": "zCfhAcHAYvS4"
      },
      "source": [
        "---"
      ]
    },
    {
      "cell_type": "markdown",
      "metadata": {
        "id": "BTMp-43z7FQY"
      },
      "source": [
        "#### 2. Exploratory Data Analysis\n",
        "\n",
        "We need to predict the value of `price` variable, using other variables. Thus, `price` is the target or dependent variable and other columns except `price` are the features or the independent variables. \n",
        "\n",
        "Perform the following tasks:\n",
        "\n",
        "- Create Box plots between each **categorical** variable and the target variable `price` to sense the distribution of values.\n",
        "\n",
        "- Create the Scatter plots between each **numerical** variable and the target variable `price`. Determine which variable(s) shows linear relationship with the target variable `price`. \n",
        "\n",
        "- Create a normal distribution curve for the `price`.\n"
      ]
    },
    {
      "cell_type": "code",
      "metadata": {
        "id": "BE095lJ7mTE6",
        "colab": {
          "base_uri": "https://localhost:8080/",
          "height": 424
        },
        "outputId": "b83ac98e-aa1b-4e83-cb44-a745fd8b356c"
      },
      "source": [
        "# Check categorical attributes\n",
        "df.select_dtypes(include = ['object'])"
      ],
      "execution_count": null,
      "outputs": [
        {
          "output_type": "execute_result",
          "data": {
            "text/html": [
              "\n",
              "  <div id=\"df-60d19c9f-8948-4560-b3ea-20af8adb6dfa\">\n",
              "    <div class=\"colab-df-container\">\n",
              "      <div>\n",
              "<style scoped>\n",
              "    .dataframe tbody tr th:only-of-type {\n",
              "        vertical-align: middle;\n",
              "    }\n",
              "\n",
              "    .dataframe tbody tr th {\n",
              "        vertical-align: top;\n",
              "    }\n",
              "\n",
              "    .dataframe thead th {\n",
              "        text-align: right;\n",
              "    }\n",
              "</style>\n",
              "<table border=\"1\" class=\"dataframe\">\n",
              "  <thead>\n",
              "    <tr style=\"text-align: right;\">\n",
              "      <th></th>\n",
              "      <th>mainroad</th>\n",
              "      <th>guestroom</th>\n",
              "      <th>basement</th>\n",
              "      <th>hotwaterheating</th>\n",
              "      <th>airconditioning</th>\n",
              "      <th>prefarea</th>\n",
              "      <th>furnishingstatus</th>\n",
              "    </tr>\n",
              "  </thead>\n",
              "  <tbody>\n",
              "    <tr>\n",
              "      <th>0</th>\n",
              "      <td>yes</td>\n",
              "      <td>no</td>\n",
              "      <td>no</td>\n",
              "      <td>no</td>\n",
              "      <td>yes</td>\n",
              "      <td>yes</td>\n",
              "      <td>furnished</td>\n",
              "    </tr>\n",
              "    <tr>\n",
              "      <th>1</th>\n",
              "      <td>yes</td>\n",
              "      <td>no</td>\n",
              "      <td>no</td>\n",
              "      <td>no</td>\n",
              "      <td>yes</td>\n",
              "      <td>no</td>\n",
              "      <td>furnished</td>\n",
              "    </tr>\n",
              "    <tr>\n",
              "      <th>2</th>\n",
              "      <td>yes</td>\n",
              "      <td>no</td>\n",
              "      <td>yes</td>\n",
              "      <td>no</td>\n",
              "      <td>no</td>\n",
              "      <td>yes</td>\n",
              "      <td>semi-furnished</td>\n",
              "    </tr>\n",
              "    <tr>\n",
              "      <th>3</th>\n",
              "      <td>yes</td>\n",
              "      <td>no</td>\n",
              "      <td>yes</td>\n",
              "      <td>no</td>\n",
              "      <td>yes</td>\n",
              "      <td>yes</td>\n",
              "      <td>furnished</td>\n",
              "    </tr>\n",
              "    <tr>\n",
              "      <th>4</th>\n",
              "      <td>yes</td>\n",
              "      <td>yes</td>\n",
              "      <td>yes</td>\n",
              "      <td>no</td>\n",
              "      <td>yes</td>\n",
              "      <td>no</td>\n",
              "      <td>furnished</td>\n",
              "    </tr>\n",
              "    <tr>\n",
              "      <th>...</th>\n",
              "      <td>...</td>\n",
              "      <td>...</td>\n",
              "      <td>...</td>\n",
              "      <td>...</td>\n",
              "      <td>...</td>\n",
              "      <td>...</td>\n",
              "      <td>...</td>\n",
              "    </tr>\n",
              "    <tr>\n",
              "      <th>540</th>\n",
              "      <td>yes</td>\n",
              "      <td>no</td>\n",
              "      <td>yes</td>\n",
              "      <td>no</td>\n",
              "      <td>no</td>\n",
              "      <td>no</td>\n",
              "      <td>unfurnished</td>\n",
              "    </tr>\n",
              "    <tr>\n",
              "      <th>541</th>\n",
              "      <td>no</td>\n",
              "      <td>no</td>\n",
              "      <td>no</td>\n",
              "      <td>no</td>\n",
              "      <td>no</td>\n",
              "      <td>no</td>\n",
              "      <td>semi-furnished</td>\n",
              "    </tr>\n",
              "    <tr>\n",
              "      <th>542</th>\n",
              "      <td>yes</td>\n",
              "      <td>no</td>\n",
              "      <td>no</td>\n",
              "      <td>no</td>\n",
              "      <td>no</td>\n",
              "      <td>no</td>\n",
              "      <td>unfurnished</td>\n",
              "    </tr>\n",
              "    <tr>\n",
              "      <th>543</th>\n",
              "      <td>no</td>\n",
              "      <td>no</td>\n",
              "      <td>no</td>\n",
              "      <td>no</td>\n",
              "      <td>no</td>\n",
              "      <td>no</td>\n",
              "      <td>furnished</td>\n",
              "    </tr>\n",
              "    <tr>\n",
              "      <th>544</th>\n",
              "      <td>yes</td>\n",
              "      <td>no</td>\n",
              "      <td>no</td>\n",
              "      <td>no</td>\n",
              "      <td>no</td>\n",
              "      <td>no</td>\n",
              "      <td>unfurnished</td>\n",
              "    </tr>\n",
              "  </tbody>\n",
              "</table>\n",
              "<p>545 rows × 7 columns</p>\n",
              "</div>\n",
              "      <button class=\"colab-df-convert\" onclick=\"convertToInteractive('df-60d19c9f-8948-4560-b3ea-20af8adb6dfa')\"\n",
              "              title=\"Convert this dataframe to an interactive table.\"\n",
              "              style=\"display:none;\">\n",
              "        \n",
              "  <svg xmlns=\"http://www.w3.org/2000/svg\" height=\"24px\"viewBox=\"0 0 24 24\"\n",
              "       width=\"24px\">\n",
              "    <path d=\"M0 0h24v24H0V0z\" fill=\"none\"/>\n",
              "    <path d=\"M18.56 5.44l.94 2.06.94-2.06 2.06-.94-2.06-.94-.94-2.06-.94 2.06-2.06.94zm-11 1L8.5 8.5l.94-2.06 2.06-.94-2.06-.94L8.5 2.5l-.94 2.06-2.06.94zm10 10l.94 2.06.94-2.06 2.06-.94-2.06-.94-.94-2.06-.94 2.06-2.06.94z\"/><path d=\"M17.41 7.96l-1.37-1.37c-.4-.4-.92-.59-1.43-.59-.52 0-1.04.2-1.43.59L10.3 9.45l-7.72 7.72c-.78.78-.78 2.05 0 2.83L4 21.41c.39.39.9.59 1.41.59.51 0 1.02-.2 1.41-.59l7.78-7.78 2.81-2.81c.8-.78.8-2.07 0-2.86zM5.41 20L4 18.59l7.72-7.72 1.47 1.35L5.41 20z\"/>\n",
              "  </svg>\n",
              "      </button>\n",
              "      \n",
              "  <style>\n",
              "    .colab-df-container {\n",
              "      display:flex;\n",
              "      flex-wrap:wrap;\n",
              "      gap: 12px;\n",
              "    }\n",
              "\n",
              "    .colab-df-convert {\n",
              "      background-color: #E8F0FE;\n",
              "      border: none;\n",
              "      border-radius: 50%;\n",
              "      cursor: pointer;\n",
              "      display: none;\n",
              "      fill: #1967D2;\n",
              "      height: 32px;\n",
              "      padding: 0 0 0 0;\n",
              "      width: 32px;\n",
              "    }\n",
              "\n",
              "    .colab-df-convert:hover {\n",
              "      background-color: #E2EBFA;\n",
              "      box-shadow: 0px 1px 2px rgba(60, 64, 67, 0.3), 0px 1px 3px 1px rgba(60, 64, 67, 0.15);\n",
              "      fill: #174EA6;\n",
              "    }\n",
              "\n",
              "    [theme=dark] .colab-df-convert {\n",
              "      background-color: #3B4455;\n",
              "      fill: #D2E3FC;\n",
              "    }\n",
              "\n",
              "    [theme=dark] .colab-df-convert:hover {\n",
              "      background-color: #434B5C;\n",
              "      box-shadow: 0px 1px 3px 1px rgba(0, 0, 0, 0.15);\n",
              "      filter: drop-shadow(0px 1px 2px rgba(0, 0, 0, 0.3));\n",
              "      fill: #FFFFFF;\n",
              "    }\n",
              "  </style>\n",
              "\n",
              "      <script>\n",
              "        const buttonEl =\n",
              "          document.querySelector('#df-60d19c9f-8948-4560-b3ea-20af8adb6dfa button.colab-df-convert');\n",
              "        buttonEl.style.display =\n",
              "          google.colab.kernel.accessAllowed ? 'block' : 'none';\n",
              "\n",
              "        async function convertToInteractive(key) {\n",
              "          const element = document.querySelector('#df-60d19c9f-8948-4560-b3ea-20af8adb6dfa');\n",
              "          const dataTable =\n",
              "            await google.colab.kernel.invokeFunction('convertToInteractive',\n",
              "                                                     [key], {});\n",
              "          if (!dataTable) return;\n",
              "\n",
              "          const docLinkHtml = 'Like what you see? Visit the ' +\n",
              "            '<a target=\"_blank\" href=https://colab.research.google.com/notebooks/data_table.ipynb>data table notebook</a>'\n",
              "            + ' to learn more about interactive tables.';\n",
              "          element.innerHTML = '';\n",
              "          dataTable['output_type'] = 'display_data';\n",
              "          await google.colab.output.renderOutput(dataTable, element);\n",
              "          const docLink = document.createElement('div');\n",
              "          docLink.innerHTML = docLinkHtml;\n",
              "          element.appendChild(docLink);\n",
              "        }\n",
              "      </script>\n",
              "    </div>\n",
              "  </div>\n",
              "  "
            ],
            "text/plain": [
              "    mainroad guestroom basement  ... airconditioning prefarea furnishingstatus\n",
              "0        yes        no       no  ...             yes      yes        furnished\n",
              "1        yes        no       no  ...             yes       no        furnished\n",
              "2        yes        no      yes  ...              no      yes   semi-furnished\n",
              "3        yes        no      yes  ...             yes      yes        furnished\n",
              "4        yes       yes      yes  ...             yes       no        furnished\n",
              "..       ...       ...      ...  ...             ...      ...              ...\n",
              "540      yes        no      yes  ...              no       no      unfurnished\n",
              "541       no        no       no  ...              no       no   semi-furnished\n",
              "542      yes        no       no  ...              no       no      unfurnished\n",
              "543       no        no       no  ...              no       no        furnished\n",
              "544      yes        no       no  ...              no       no      unfurnished\n",
              "\n",
              "[545 rows x 7 columns]"
            ]
          },
          "metadata": {},
          "execution_count": 471
        }
      ]
    },
    {
      "cell_type": "code",
      "metadata": {
        "id": "eiF5b2D1yKDw",
        "colab": {
          "base_uri": "https://localhost:8080/",
          "height": 453
        },
        "outputId": "1c3a1cc8-f21f-4d80-b5aa-b671244a425b"
      },
      "source": [
        "# Boxplot for 'mainroad' vs 'price'\n",
        "plt.figure(figsize = (16,7))\n",
        "sns.boxplot(x = 'mainroad',y = 'price', data = df)\n",
        "plt.show()"
      ],
      "execution_count": null,
      "outputs": [
        {
          "output_type": "display_data",
          "data": {
            "image/png": "[encoded data removed]",
            "text/plain": [
              "<Figure size 1152x504 with 1 Axes>"
            ]
          },
          "metadata": {
            "needs_background": "light"
          }
        }
      ]
    },
    {
      "cell_type": "code",
      "metadata": {
        "id": "weHLdEjnyaE2",
        "colab": {
          "base_uri": "https://localhost:8080/",
          "height": 453
        },
        "outputId": "7415e2c3-6738-45c0-dbbc-d10cd3aaa592"
      },
      "source": [
        "# Boxplot for 'guestroom' vs 'price'\n",
        "plt.figure(figsize = (16,7))\n",
        "sns.boxplot(x = 'guestroom',y = 'price', data = df)\n",
        "plt.show()\n"
      ],
      "execution_count": null,
      "outputs": [
        {
          "output_type": "display_data",
          "data": {
            "image/png": "[encoded data removed]",
            "text/plain": [
              "<Figure size 1152x504 with 1 Axes>"
            ]
          },
          "metadata": {
            "needs_background": "light"
          }
        }
      ]
    },
    {
      "cell_type": "code",
      "metadata": {
        "id": "p09SUbbhympd",
        "colab": {
          "base_uri": "https://localhost:8080/",
          "height": 453
        },
        "outputId": "a1cbdd8b-a3a6-4f9f-d60d-9117332100cb"
      },
      "source": [
        "# Boxplot for 'basement' vs 'price'\n",
        "plt.figure(figsize = (16,7))\n",
        "sns.boxplot(x = 'basement',y = 'price', data = df)\n",
        "plt.show()"
      ],
      "execution_count": null,
      "outputs": [
        {
          "output_type": "display_data",
          "data": {
            "image/png": "[encoded data removed]",
            "text/plain": [
              "<Figure size 1152x504 with 1 Axes>"
            ]
          },
          "metadata": {
            "needs_background": "light"
          }
        }
      ]
    },
    {
      "cell_type": "code",
      "metadata": {
        "id": "kth0hysho8Zc",
        "colab": {
          "base_uri": "https://localhost:8080/",
          "height": 453
        },
        "outputId": "f6bfff38-6080-4d45-d68c-a0ae109be9fe"
      },
      "source": [
        "# Boxplot for 'hotwaterheating' vs 'price'\n",
        "plt.figure(figsize = (16,7))\n",
        "sns.boxplot(x = 'hotwaterheating',y = 'price', data = df)\n",
        "plt.show()"
      ],
      "execution_count": null,
      "outputs": [
        {
          "output_type": "display_data",
          "data": {
            "image/png": "[encoded data removed]",
            "text/plain": [
              "<Figure size 1152x504 with 1 Axes>"
            ]
          },
          "metadata": {
            "needs_background": "light"
          }
        }
      ]
    },
    {
      "cell_type": "code",
      "metadata": {
        "id": "We94X-Dfo9BZ",
        "colab": {
          "base_uri": "https://localhost:8080/",
          "height": 453
        },
        "outputId": "dbb6ac2d-4585-4037-de59-2f28a8a26707"
      },
      "source": [
        "# Boxplot for 'airconditioning' vs 'price'\n",
        "plt.figure(figsize = (16,7))\n",
        "sns.boxplot(x = 'airconditioning',y = 'price', data = df)\n",
        "plt.show()\n"
      ],
      "execution_count": null,
      "outputs": [
        {
          "output_type": "display_data",
          "data": {
            "image/png": "[encoded data removed]",
            "text/plain": [
              "<Figure size 1152x504 with 1 Axes>"
            ]
          },
          "metadata": {
            "needs_background": "light"
          }
        }
      ]
    },
    {
      "cell_type": "code",
      "metadata": {
        "id": "nfa6bSKIo98Y",
        "colab": {
          "base_uri": "https://localhost:8080/",
          "height": 453
        },
        "outputId": "07ccce76-a993-4e01-8961-ef9db7267801"
      },
      "source": [
        "# Boxplot for 'prefarea' vs 'price'\n",
        "plt.figure(figsize = (16,7))\n",
        "sns.boxplot(x = 'prefarea',y = 'price', data = df)\n",
        "plt.show()\n"
      ],
      "execution_count": null,
      "outputs": [
        {
          "output_type": "display_data",
          "data": {
            "image/png": "[encoded data removed]",
            "text/plain": [
              "<Figure size 1152x504 with 1 Axes>"
            ]
          },
          "metadata": {
            "needs_background": "light"
          }
        }
      ]
    },
    {
      "cell_type": "code",
      "metadata": {
        "id": "d1OlbcvXjy4s",
        "colab": {
          "base_uri": "https://localhost:8080/",
          "height": 453
        },
        "outputId": "141592a9-a889-4f27-b5c2-dcf184e8b1f2"
      },
      "source": [
        "# Boxplot for 'furnishingstatus' vs 'price'\n",
        "plt.figure(figsize = (16,7))\n",
        "sns.boxplot(x = 'furnishingstatus',y = 'price', data = df)\n",
        "plt.show()"
      ],
      "execution_count": null,
      "outputs": [
        {
          "output_type": "display_data",
          "data": {
            "image/png": "[encoded data removed]",
            "text/plain": [
              "<Figure size 1152x504 with 1 Axes>"
            ]
          },
          "metadata": {
            "needs_background": "light"
          }
        }
      ]
    },
    {
      "cell_type": "code",
      "metadata": {
        "id": "pnJ_Yv9MzSn8",
        "colab": {
          "base_uri": "https://localhost:8080/",
          "height": 453
        },
        "outputId": "672d6a2e-e5fb-4b35-bcb9-01f17e83a2a6"
      },
      "source": [
        "# Create scatter plot with 'area' on X-axis and 'price' on Y-axis\n",
        "plt.figure(figsize = (16,7))\n",
        "sns.scatterplot(x = 'area',y = 'price', data = df)\n",
        "plt.show()"
      ],
      "execution_count": null,
      "outputs": [
        {
          "output_type": "display_data",
          "data": {
            "image/png": "[encoded data removed]",
            "text/plain": [
              "<Figure size 1152x504 with 1 Axes>"
            ]
          },
          "metadata": {
            "needs_background": "light"
          }
        }
      ]
    },
    {
      "cell_type": "code",
      "metadata": {
        "id": "is7gd_Z1p4y7",
        "colab": {
          "base_uri": "https://localhost:8080/",
          "height": 453
        },
        "outputId": "801045a8-9bce-4469-b4a8-ad25232ac04b"
      },
      "source": [
        "# Create scatter plot with 'bedrooms' on X-axis and 'price' on Y-axis\n",
        "plt.figure(figsize = (16,7))\n",
        "sns.scatterplot(x = 'bedrooms',y = 'price', data = df)\n",
        "plt.show()"
      ],
      "execution_count": null,
      "outputs": [
        {
          "output_type": "display_data",
          "data": {
            "image/png": "[encoded data removed]",
            "text/plain": [
              "<Figure size 1152x504 with 1 Axes>"
            ]
          },
          "metadata": {
            "needs_background": "light"
          }
        }
      ]
    },
    {
      "cell_type": "code",
      "metadata": {
        "id": "2nawvemNp5jO",
        "colab": {
          "base_uri": "https://localhost:8080/",
          "height": 453
        },
        "outputId": "9de65381-a907-45d3-dfbe-c9543b383bfb"
      },
      "source": [
        "# Create scatter plot with 'bathrooms' on X-axis and 'price' on Y-axis\n",
        "plt.figure(figsize = (16,7))\n",
        "sns.scatterplot(x = 'bathrooms',y = 'price', data = df)\n",
        "plt.show()"
      ],
      "execution_count": null,
      "outputs": [
        {
          "output_type": "display_data",
          "data": {
            "image/png": "[encoded data removed]",
            "text/plain": [
              "<Figure size 1152x504 with 1 Axes>"
            ]
          },
          "metadata": {
            "needs_background": "light"
          }
        }
      ]
    },
    {
      "cell_type": "code",
      "metadata": {
        "id": "PDfLIRf0p6b1",
        "colab": {
          "base_uri": "https://localhost:8080/",
          "height": 453
        },
        "outputId": "547db8d4-743c-4529-e228-ddf78782a266"
      },
      "source": [
        "# Create scatter plot with 'stories' on X-axis and 'price' on Y-axis\n",
        "plt.figure(figsize = (16,7))\n",
        "sns.scatterplot(x = 'stories',y = 'price', data = df)\n",
        "plt.show()"
      ],
      "execution_count": null,
      "outputs": [
        {
          "output_type": "display_data",
          "data": {
            "image/png": "[encoded data removed]",
            "text/plain": [
              "<Figure size 1152x504 with 1 Axes>"
            ]
          },
          "metadata": {
            "needs_background": "light"
          }
        }
      ]
    },
    {
      "cell_type": "code",
      "metadata": {
        "id": "QIpsz4Gd5M-e",
        "colab": {
          "base_uri": "https://localhost:8080/",
          "height": 452
        },
        "outputId": "fb241d9f-a5fc-4cd1-9f01-c3c198a175ee"
      },
      "source": [
        "# Create a normal distribution curve for the 'price'.\n",
        "\n",
        "# Create a probablity density function for plotting the normal distribution\n",
        "def pdf(arr):\n",
        "  mean = np.mean(arr)\n",
        "  std  = np.std(arr)\n",
        "  p1 = 1/(std*np.sqrt(2*np.pi))\n",
        "  p2 = np.exp(-(arr - mean)**2/(2*std**2))\n",
        "  p3 = p1*p2\n",
        "  return p3\n",
        "\n",
        "price_arr = np.array(df['price'])\n",
        "# Plot the normal distribution curve using plt.scatter() \n",
        "plt.figure(figsize = (16,7))\n",
        "plt.scatter(df['price'],pdf(price_arr))\n",
        "plt.show()"
      ],
      "execution_count": null,
      "outputs": [
        {
          "output_type": "display_data",
          "data": {
            "image/png": "[encoded data removed]",
            "text/plain": [
              "<Figure size 1152x504 with 1 Axes>"
            ]
          },
          "metadata": {
            "needs_background": "light"
          }
        }
      ]
    },
    {
      "cell_type": "markdown",
      "metadata": {
        "id": "AnYUk03JZHNW"
      },
      "source": [
        "---"
      ]
    },
    {
      "cell_type": "markdown",
      "metadata": {
        "id": "hV_89Nj7134T"
      },
      "source": [
        "#### 3. Feature encoding \n",
        "\n",
        "Perform feature encoding using `map()` function and one-hot encoding."
      ]
    },
    {
      "cell_type": "code",
      "metadata": {
        "id": "KtUqbj3nrpsw"
      },
      "source": [
        "# Replace yes with 1 and no with 0 for all the values in features 'mainroad', 'guestroom', 'basement', 'hotwaterheating', 'airconditioning', 'prefarea' using map() function.\n",
        "values = {'yes':1,'no':0}\n",
        "features_encode = ['mainroad', 'guestroom', 'basement', 'hotwaterheating', 'airconditioning', 'prefarea'] \n",
        "for col in features_encode:\n",
        "  df[col] = df[col].map(encode)\n"
      ],
      "execution_count": null,
      "outputs": []
    },
    {
      "cell_type": "code",
      "metadata": {
        "id": "NyBVyE1mrwg1",
        "colab": {
          "base_uri": "https://localhost:8080/",
          "height": 206
        },
        "outputId": "48c9c012-3faa-4023-d5be-771f24959564"
      },
      "source": [
        "# Print dataframe\n",
        "df.head()"
      ],
      "execution_count": null,
      "outputs": [
        {
          "output_type": "execute_result",
          "data": {
            "text/html": [
              "\n",
              "  <div id=\"df-71619165-dbe3-4af2-b768-4bd5c8ff5752\">\n",
              "    <div class=\"colab-df-container\">\n",
              "      <div>\n",
              "<style scoped>\n",
              "    .dataframe tbody tr th:only-of-type {\n",
              "        vertical-align: middle;\n",
              "    }\n",
              "\n",
              "    .dataframe tbody tr th {\n",
              "        vertical-align: top;\n",
              "    }\n",
              "\n",
              "    .dataframe thead th {\n",
              "        text-align: right;\n",
              "    }\n",
              "</style>\n",
              "<table border=\"1\" class=\"dataframe\">\n",
              "  <thead>\n",
              "    <tr style=\"text-align: right;\">\n",
              "      <th></th>\n",
              "      <th>price</th>\n",
              "      <th>area</th>\n",
              "      <th>bedrooms</th>\n",
              "      <th>bathrooms</th>\n",
              "      <th>stories</th>\n",
              "      <th>mainroad</th>\n",
              "      <th>guestroom</th>\n",
              "      <th>basement</th>\n",
              "      <th>hotwaterheating</th>\n",
              "      <th>airconditioning</th>\n",
              "      <th>parking</th>\n",
              "      <th>prefarea</th>\n",
              "      <th>furnishingstatus</th>\n",
              "    </tr>\n",
              "  </thead>\n",
              "  <tbody>\n",
              "    <tr>\n",
              "      <th>0</th>\n",
              "      <td>13300000</td>\n",
              "      <td>7420</td>\n",
              "      <td>4</td>\n",
              "      <td>2</td>\n",
              "      <td>3</td>\n",
              "      <td>1</td>\n",
              "      <td>0</td>\n",
              "      <td>0</td>\n",
              "      <td>0</td>\n",
              "      <td>1</td>\n",
              "      <td>2</td>\n",
              "      <td>1</td>\n",
              "      <td>furnished</td>\n",
              "    </tr>\n",
              "    <tr>\n",
              "      <th>1</th>\n",
              "      <td>12250000</td>\n",
              "      <td>8960</td>\n",
              "      <td>4</td>\n",
              "      <td>4</td>\n",
              "      <td>4</td>\n",
              "      <td>1</td>\n",
              "      <td>0</td>\n",
              "      <td>0</td>\n",
              "      <td>0</td>\n",
              "      <td>1</td>\n",
              "      <td>3</td>\n",
              "      <td>0</td>\n",
              "      <td>furnished</td>\n",
              "    </tr>\n",
              "    <tr>\n",
              "      <th>2</th>\n",
              "      <td>12250000</td>\n",
              "      <td>9960</td>\n",
              "      <td>3</td>\n",
              "      <td>2</td>\n",
              "      <td>2</td>\n",
              "      <td>1</td>\n",
              "      <td>0</td>\n",
              "      <td>1</td>\n",
              "      <td>0</td>\n",
              "      <td>0</td>\n",
              "      <td>2</td>\n",
              "      <td>1</td>\n",
              "      <td>semi-furnished</td>\n",
              "    </tr>\n",
              "    <tr>\n",
              "      <th>3</th>\n",
              "      <td>12215000</td>\n",
              "      <td>7500</td>\n",
              "      <td>4</td>\n",
              "      <td>2</td>\n",
              "      <td>2</td>\n",
              "      <td>1</td>\n",
              "      <td>0</td>\n",
              "      <td>1</td>\n",
              "      <td>0</td>\n",
              "      <td>1</td>\n",
              "      <td>3</td>\n",
              "      <td>1</td>\n",
              "      <td>furnished</td>\n",
              "    </tr>\n",
              "    <tr>\n",
              "      <th>4</th>\n",
              "      <td>11410000</td>\n",
              "      <td>7420</td>\n",
              "      <td>4</td>\n",
              "      <td>1</td>\n",
              "      <td>2</td>\n",
              "      <td>1</td>\n",
              "      <td>1</td>\n",
              "      <td>1</td>\n",
              "      <td>0</td>\n",
              "      <td>1</td>\n",
              "      <td>2</td>\n",
              "      <td>0</td>\n",
              "      <td>furnished</td>\n",
              "    </tr>\n",
              "  </tbody>\n",
              "</table>\n",
              "</div>\n",
              "      <button class=\"colab-df-convert\" onclick=\"convertToInteractive('df-71619165-dbe3-4af2-b768-4bd5c8ff5752')\"\n",
              "              title=\"Convert this dataframe to an interactive table.\"\n",
              "              style=\"display:none;\">\n",
              "        \n",
              "  <svg xmlns=\"http://www.w3.org/2000/svg\" height=\"24px\"viewBox=\"0 0 24 24\"\n",
              "       width=\"24px\">\n",
              "    <path d=\"M0 0h24v24H0V0z\" fill=\"none\"/>\n",
              "    <path d=\"M18.56 5.44l.94 2.06.94-2.06 2.06-.94-2.06-.94-.94-2.06-.94 2.06-2.06.94zm-11 1L8.5 8.5l.94-2.06 2.06-.94-2.06-.94L8.5 2.5l-.94 2.06-2.06.94zm10 10l.94 2.06.94-2.06 2.06-.94-2.06-.94-.94-2.06-.94 2.06-2.06.94z\"/><path d=\"M17.41 7.96l-1.37-1.37c-.4-.4-.92-.59-1.43-.59-.52 0-1.04.2-1.43.59L10.3 9.45l-7.72 7.72c-.78.78-.78 2.05 0 2.83L4 21.41c.39.39.9.59 1.41.59.51 0 1.02-.2 1.41-.59l7.78-7.78 2.81-2.81c.8-.78.8-2.07 0-2.86zM5.41 20L4 18.59l7.72-7.72 1.47 1.35L5.41 20z\"/>\n",
              "  </svg>\n",
              "      </button>\n",
              "      \n",
              "  <style>\n",
              "    .colab-df-container {\n",
              "      display:flex;\n",
              "      flex-wrap:wrap;\n",
              "      gap: 12px;\n",
              "    }\n",
              "\n",
              "    .colab-df-convert {\n",
              "      background-color: #E8F0FE;\n",
              "      border: none;\n",
              "      border-radius: 50%;\n",
              "      cursor: pointer;\n",
              "      display: none;\n",
              "      fill: #1967D2;\n",
              "      height: 32px;\n",
              "      padding: 0 0 0 0;\n",
              "      width: 32px;\n",
              "    }\n",
              "\n",
              "    .colab-df-convert:hover {\n",
              "      background-color: #E2EBFA;\n",
              "      box-shadow: 0px 1px 2px rgba(60, 64, 67, 0.3), 0px 1px 3px 1px rgba(60, 64, 67, 0.15);\n",
              "      fill: #174EA6;\n",
              "    }\n",
              "\n",
              "    [theme=dark] .colab-df-convert {\n",
              "      background-color: #3B4455;\n",
              "      fill: #D2E3FC;\n",
              "    }\n",
              "\n",
              "    [theme=dark] .colab-df-convert:hover {\n",
              "      background-color: #434B5C;\n",
              "      box-shadow: 0px 1px 3px 1px rgba(0, 0, 0, 0.15);\n",
              "      filter: drop-shadow(0px 1px 2px rgba(0, 0, 0, 0.3));\n",
              "      fill: #FFFFFF;\n",
              "    }\n",
              "  </style>\n",
              "\n",
              "      <script>\n",
              "        const buttonEl =\n",
              "          document.querySelector('#df-71619165-dbe3-4af2-b768-4bd5c8ff5752 button.colab-df-convert');\n",
              "        buttonEl.style.display =\n",
              "          google.colab.kernel.accessAllowed ? 'block' : 'none';\n",
              "\n",
              "        async function convertToInteractive(key) {\n",
              "          const element = document.querySelector('#df-71619165-dbe3-4af2-b768-4bd5c8ff5752');\n",
              "          const dataTable =\n",
              "            await google.colab.kernel.invokeFunction('convertToInteractive',\n",
              "                                                     [key], {});\n",
              "          if (!dataTable) return;\n",
              "\n",
              "          const docLinkHtml = 'Like what you see? Visit the ' +\n",
              "            '<a target=\"_blank\" href=https://colab.research.google.com/notebooks/data_table.ipynb>data table notebook</a>'\n",
              "            + ' to learn more about interactive tables.';\n",
              "          element.innerHTML = '';\n",
              "          dataTable['output_type'] = 'display_data';\n",
              "          await google.colab.output.renderOutput(dataTable, element);\n",
              "          const docLink = document.createElement('div');\n",
              "          docLink.innerHTML = docLinkHtml;\n",
              "          element.appendChild(docLink);\n",
              "        }\n",
              "      </script>\n",
              "    </div>\n",
              "  </div>\n",
              "  "
            ],
            "text/plain": [
              "      price  area  bedrooms  ...  parking  prefarea  furnishingstatus\n",
              "0  13300000  7420         4  ...        2         1         furnished\n",
              "1  12250000  8960         4  ...        3         0         furnished\n",
              "2  12250000  9960         3  ...        2         1    semi-furnished\n",
              "3  12215000  7500         4  ...        3         1         furnished\n",
              "4  11410000  7420         4  ...        2         0         furnished\n",
              "\n",
              "[5 rows x 13 columns]"
            ]
          },
          "metadata": {},
          "execution_count": 485
        }
      ]
    },
    {
      "cell_type": "code",
      "metadata": {
        "id": "uZQ5753MkgUn"
      },
      "source": [
        "# Perform one hot encoding for furnishingstatus feature.\n",
        "df = pd.concat([df,pd.get_dummies(df['furnishingstatus'])],axis = 1)"
      ],
      "execution_count": null,
      "outputs": []
    },
    {
      "cell_type": "code",
      "metadata": {
        "id": "v7j60gXuxkSo"
      },
      "source": [
        "# Drop 'furnishingstatus' feature\n",
        "df.drop(columns = ['furnishingstatus'],inplace = True)"
      ],
      "execution_count": null,
      "outputs": []
    },
    {
      "cell_type": "code",
      "metadata": {
        "id": "98TkE-Uvxu1W",
        "colab": {
          "base_uri": "https://localhost:8080/",
          "height": 250
        },
        "outputId": "4844ec93-b3b8-452f-c05a-891795670102"
      },
      "source": [
        "# Print dataframe \n",
        "df.head()"
      ],
      "execution_count": null,
      "outputs": [
        {
          "output_type": "execute_result",
          "data": {
            "text/html": [
              "\n",
              "  <div id=\"df-a14cae78-c007-4d22-bc6d-2c62cc3dd25b\">\n",
              "    <div class=\"colab-df-container\">\n",
              "      <div>\n",
              "<style scoped>\n",
              "    .dataframe tbody tr th:only-of-type {\n",
              "        vertical-align: middle;\n",
              "    }\n",
              "\n",
              "    .dataframe tbody tr th {\n",
              "        vertical-align: top;\n",
              "    }\n",
              "\n",
              "    .dataframe thead th {\n",
              "        text-align: right;\n",
              "    }\n",
              "</style>\n",
              "<table border=\"1\" class=\"dataframe\">\n",
              "  <thead>\n",
              "    <tr style=\"text-align: right;\">\n",
              "      <th></th>\n",
              "      <th>price</th>\n",
              "      <th>area</th>\n",
              "      <th>bedrooms</th>\n",
              "      <th>bathrooms</th>\n",
              "      <th>stories</th>\n",
              "      <th>mainroad</th>\n",
              "      <th>guestroom</th>\n",
              "      <th>basement</th>\n",
              "      <th>hotwaterheating</th>\n",
              "      <th>airconditioning</th>\n",
              "      <th>parking</th>\n",
              "      <th>prefarea</th>\n",
              "      <th>furnished</th>\n",
              "      <th>semi-furnished</th>\n",
              "      <th>unfurnished</th>\n",
              "    </tr>\n",
              "  </thead>\n",
              "  <tbody>\n",
              "    <tr>\n",
              "      <th>0</th>\n",
              "      <td>13300000</td>\n",
              "      <td>7420</td>\n",
              "      <td>4</td>\n",
              "      <td>2</td>\n",
              "      <td>3</td>\n",
              "      <td>1</td>\n",
              "      <td>0</td>\n",
              "      <td>0</td>\n",
              "      <td>0</td>\n",
              "      <td>1</td>\n",
              "      <td>2</td>\n",
              "      <td>1</td>\n",
              "      <td>1</td>\n",
              "      <td>0</td>\n",
              "      <td>0</td>\n",
              "    </tr>\n",
              "    <tr>\n",
              "      <th>1</th>\n",
              "      <td>12250000</td>\n",
              "      <td>8960</td>\n",
              "      <td>4</td>\n",
              "      <td>4</td>\n",
              "      <td>4</td>\n",
              "      <td>1</td>\n",
              "      <td>0</td>\n",
              "      <td>0</td>\n",
              "      <td>0</td>\n",
              "      <td>1</td>\n",
              "      <td>3</td>\n",
              "      <td>0</td>\n",
              "      <td>1</td>\n",
              "      <td>0</td>\n",
              "      <td>0</td>\n",
              "    </tr>\n",
              "    <tr>\n",
              "      <th>2</th>\n",
              "      <td>12250000</td>\n",
              "      <td>9960</td>\n",
              "      <td>3</td>\n",
              "      <td>2</td>\n",
              "      <td>2</td>\n",
              "      <td>1</td>\n",
              "      <td>0</td>\n",
              "      <td>1</td>\n",
              "      <td>0</td>\n",
              "      <td>0</td>\n",
              "      <td>2</td>\n",
              "      <td>1</td>\n",
              "      <td>0</td>\n",
              "      <td>1</td>\n",
              "      <td>0</td>\n",
              "    </tr>\n",
              "    <tr>\n",
              "      <th>3</th>\n",
              "      <td>12215000</td>\n",
              "      <td>7500</td>\n",
              "      <td>4</td>\n",
              "      <td>2</td>\n",
              "      <td>2</td>\n",
              "      <td>1</td>\n",
              "      <td>0</td>\n",
              "      <td>1</td>\n",
              "      <td>0</td>\n",
              "      <td>1</td>\n",
              "      <td>3</td>\n",
              "      <td>1</td>\n",
              "      <td>1</td>\n",
              "      <td>0</td>\n",
              "      <td>0</td>\n",
              "    </tr>\n",
              "    <tr>\n",
              "      <th>4</th>\n",
              "      <td>11410000</td>\n",
              "      <td>7420</td>\n",
              "      <td>4</td>\n",
              "      <td>1</td>\n",
              "      <td>2</td>\n",
              "      <td>1</td>\n",
              "      <td>1</td>\n",
              "      <td>1</td>\n",
              "      <td>0</td>\n",
              "      <td>1</td>\n",
              "      <td>2</td>\n",
              "      <td>0</td>\n",
              "      <td>1</td>\n",
              "      <td>0</td>\n",
              "      <td>0</td>\n",
              "    </tr>\n",
              "  </tbody>\n",
              "</table>\n",
              "</div>\n",
              "      <button class=\"colab-df-convert\" onclick=\"convertToInteractive('df-a14cae78-c007-4d22-bc6d-2c62cc3dd25b')\"\n",
              "              title=\"Convert this dataframe to an interactive table.\"\n",
              "              style=\"display:none;\">\n",
              "        \n",
              "  <svg xmlns=\"http://www.w3.org/2000/svg\" height=\"24px\"viewBox=\"0 0 24 24\"\n",
              "       width=\"24px\">\n",
              "    <path d=\"M0 0h24v24H0V0z\" fill=\"none\"/>\n",
              "    <path d=\"M18.56 5.44l.94 2.06.94-2.06 2.06-.94-2.06-.94-.94-2.06-.94 2.06-2.06.94zm-11 1L8.5 8.5l.94-2.06 2.06-.94-2.06-.94L8.5 2.5l-.94 2.06-2.06.94zm10 10l.94 2.06.94-2.06 2.06-.94-2.06-.94-.94-2.06-.94 2.06-2.06.94z\"/><path d=\"M17.41 7.96l-1.37-1.37c-.4-.4-.92-.59-1.43-.59-.52 0-1.04.2-1.43.59L10.3 9.45l-7.72 7.72c-.78.78-.78 2.05 0 2.83L4 21.41c.39.39.9.59 1.41.59.51 0 1.02-.2 1.41-.59l7.78-7.78 2.81-2.81c.8-.78.8-2.07 0-2.86zM5.41 20L4 18.59l7.72-7.72 1.47 1.35L5.41 20z\"/>\n",
              "  </svg>\n",
              "      </button>\n",
              "      \n",
              "  <style>\n",
              "    .colab-df-container {\n",
              "      display:flex;\n",
              "      flex-wrap:wrap;\n",
              "      gap: 12px;\n",
              "    }\n",
              "\n",
              "    .colab-df-convert {\n",
              "      background-color: #E8F0FE;\n",
              "      border: none;\n",
              "      border-radius: 50%;\n",
              "      cursor: pointer;\n",
              "      display: none;\n",
              "      fill: #1967D2;\n",
              "      height: 32px;\n",
              "      padding: 0 0 0 0;\n",
              "      width: 32px;\n",
              "    }\n",
              "\n",
              "    .colab-df-convert:hover {\n",
              "      background-color: #E2EBFA;\n",
              "      box-shadow: 0px 1px 2px rgba(60, 64, 67, 0.3), 0px 1px 3px 1px rgba(60, 64, 67, 0.15);\n",
              "      fill: #174EA6;\n",
              "    }\n",
              "\n",
              "    [theme=dark] .colab-df-convert {\n",
              "      background-color: #3B4455;\n",
              "      fill: #D2E3FC;\n",
              "    }\n",
              "\n",
              "    [theme=dark] .colab-df-convert:hover {\n",
              "      background-color: #434B5C;\n",
              "      box-shadow: 0px 1px 3px 1px rgba(0, 0, 0, 0.15);\n",
              "      filter: drop-shadow(0px 1px 2px rgba(0, 0, 0, 0.3));\n",
              "      fill: #FFFFFF;\n",
              "    }\n",
              "  </style>\n",
              "\n",
              "      <script>\n",
              "        const buttonEl =\n",
              "          document.querySelector('#df-a14cae78-c007-4d22-bc6d-2c62cc3dd25b button.colab-df-convert');\n",
              "        buttonEl.style.display =\n",
              "          google.colab.kernel.accessAllowed ? 'block' : 'none';\n",
              "\n",
              "        async function convertToInteractive(key) {\n",
              "          const element = document.querySelector('#df-a14cae78-c007-4d22-bc6d-2c62cc3dd25b');\n",
              "          const dataTable =\n",
              "            await google.colab.kernel.invokeFunction('convertToInteractive',\n",
              "                                                     [key], {});\n",
              "          if (!dataTable) return;\n",
              "\n",
              "          const docLinkHtml = 'Like what you see? Visit the ' +\n",
              "            '<a target=\"_blank\" href=https://colab.research.google.com/notebooks/data_table.ipynb>data table notebook</a>'\n",
              "            + ' to learn more about interactive tables.';\n",
              "          element.innerHTML = '';\n",
              "          dataTable['output_type'] = 'display_data';\n",
              "          await google.colab.output.renderOutput(dataTable, element);\n",
              "          const docLink = document.createElement('div');\n",
              "          docLink.innerHTML = docLinkHtml;\n",
              "          element.appendChild(docLink);\n",
              "        }\n",
              "      </script>\n",
              "    </div>\n",
              "  </div>\n",
              "  "
            ],
            "text/plain": [
              "      price  area  bedrooms  ...  furnished  semi-furnished  unfurnished\n",
              "0  13300000  7420         4  ...          1               0            0\n",
              "1  12250000  8960         4  ...          1               0            0\n",
              "2  12250000  9960         3  ...          0               1            0\n",
              "3  12215000  7500         4  ...          1               0            0\n",
              "4  11410000  7420         4  ...          1               0            0\n",
              "\n",
              "[5 rows x 15 columns]"
            ]
          },
          "metadata": {},
          "execution_count": 488
        }
      ]
    },
    {
      "cell_type": "markdown",
      "metadata": {
        "id": "zOCUEcX8uRqy"
      },
      "source": [
        "---"
      ]
    },
    {
      "cell_type": "markdown",
      "metadata": {
        "id": "DPA5gDelbIhQ"
      },
      "source": [
        "#### 4. Model Building and Evaluation \n",
        "\n",
        "Build a multiple linear regression model using the `statsmodels.api` module."
      ]
    },
    {
      "cell_type": "code",
      "metadata": {
        "id": "wQzZoKiQMsLe"
      },
      "source": [
        "# Split the 'df' Dataframe into the train and test sets.\n",
        "from sklearn.model_selection import train_test_split\n",
        "train_df,test_df = train_test_split(df,test_size = 0.3,random_state = 42)\n"
      ],
      "execution_count": null,
      "outputs": []
    },
    {
      "cell_type": "code",
      "metadata": {
        "id": "QaMtadzBMx1b"
      },
      "source": [
        "# Create separate data-frames for the feature and target variables for both the train and test sets.\n",
        "features = list(df.columns)\n",
        "features.remove('price')\n",
        "x_train = train_df[features]\n",
        "y_train = train_df['price']\n",
        "x_test = test_df[features]\n",
        "y_test = test_df['price']\n"
      ],
      "execution_count": null,
      "outputs": []
    },
    {
      "cell_type": "code",
      "metadata": {
        "id": "NmVNQIXoM_e7"
      },
      "source": [
        "# Build a linear regression model using all the features to predict prices.\n",
        "import statsmodels.api as sm\n",
        "x_train_sm = sm.add_constant(x_train)\n",
        "lin_reg = sm.OLS(y_train,x_train_sm).fit()\n"
      ],
      "execution_count": null,
      "outputs": []
    },
    {
      "cell_type": "code",
      "metadata": {
        "id": "bTRC2EzPNES8",
        "colab": {
          "base_uri": "https://localhost:8080/"
        },
        "outputId": "633a6917-087a-4488-bdc4-bf064ba5bbc4"
      },
      "source": [
        "# Print the summary of the linear regression report.\n",
        "print(lin_reg.summary())"
      ],
      "execution_count": null,
      "outputs": [
        {
          "output_type": "stream",
          "name": "stdout",
          "text": [
            "                            OLS Regression Results                            \n",
            "==============================================================================\n",
            "Dep. Variable:                  price   R-squared:                       0.693\n",
            "Model:                            OLS   Adj. R-squared:                  0.682\n",
            "Method:                 Least Squares   F-statistic:                     63.79\n",
            "Date:                Fri, 07 Jan 2022   Prob (F-statistic):           1.00e-85\n",
            "Time:                        19:27:31   Log-Likelihood:                -5797.3\n",
            "No. Observations:                 381   AIC:                         1.162e+04\n",
            "Df Residuals:                     367   BIC:                         1.168e+04\n",
            "Df Model:                          13                                         \n",
            "Covariance Type:            nonrobust                                         \n",
            "===================================================================================\n",
            "                      coef    std err          t      P>|t|      [0.025      0.975]\n",
            "-----------------------------------------------------------------------------------\n",
            "const           -5.637e+04   2.04e+05     -0.277      0.782   -4.57e+05    3.44e+05\n",
            "area              253.2873     27.086      9.351      0.000     200.024     306.551\n",
            "bedrooms         8.089e+04   8.11e+04      0.998      0.319   -7.85e+04     2.4e+05\n",
            "bathrooms        1.115e+06   1.23e+05      9.031      0.000    8.72e+05    1.36e+06\n",
            "stories          4.173e+05   7.45e+04      5.599      0.000    2.71e+05    5.64e+05\n",
            "mainroad         4.081e+05   1.62e+05      2.517      0.012    8.93e+04    7.27e+05\n",
            "guestroom        2.757e+05   1.48e+05      1.858      0.064   -1.61e+04    5.68e+05\n",
            "basement         4.826e+05   1.27e+05      3.794      0.000    2.32e+05    7.33e+05\n",
            "hotwaterheating  6.164e+05   2.35e+05      2.619      0.009    1.54e+05    1.08e+06\n",
            "airconditioning  6.858e+05   1.25e+05      5.502      0.000    4.41e+05    9.31e+05\n",
            "parking          3.031e+05   6.67e+04      4.547      0.000    1.72e+05    4.34e+05\n",
            "prefarea         5.092e+05    1.3e+05      3.925      0.000    2.54e+05    7.64e+05\n",
            "furnished        1.522e+05   1.15e+05      1.324      0.186   -7.38e+04    3.78e+05\n",
            "semi-furnished    3.05e+04   9.69e+04      0.315      0.753    -1.6e+05    2.21e+05\n",
            "unfurnished      -2.39e+05   9.31e+04     -2.567      0.011   -4.22e+05   -5.59e+04\n",
            "==============================================================================\n",
            "Omnibus:                       61.032   Durbin-Watson:                   1.895\n",
            "Prob(Omnibus):                  0.000   Jarque-Bera (JB):              144.413\n",
            "Skew:                           0.805   Prob(JB):                     4.38e-32\n",
            "Kurtosis:                       5.550   Cond. No.                     1.17e+19\n",
            "==============================================================================\n",
            "\n",
            "Warnings:\n",
            "[1] Standard Errors assume that the covariance matrix of the errors is correctly specified.\n",
            "[2] The smallest eigenvalue is 8.65e-29. This might indicate that there are\n",
            "strong multicollinearity problems or that the design matrix is singular.\n"
          ]
        }
      ]
    },
    {
      "cell_type": "code",
      "metadata": {
        "id": "J7Yt4qRL1nEE"
      },
      "source": [
        "# Calculate N and p values\n",
        "N = x_train.shape[0]\n",
        "p = x_train.shape[1]\n"
      ],
      "execution_count": null,
      "outputs": []
    },
    {
      "cell_type": "code",
      "metadata": {
        "id": "Y5oVTSm2NI0N",
        "colab": {
          "base_uri": "https://localhost:8080/"
        },
        "outputId": "04bcfb5a-3d5f-4a1e-b473-e114dd2692b2"
      },
      "source": [
        "# Calculate the adjusted R-square value.\n",
        "r_square = lin_reg.rsquared\n",
        "adj_r_square = 1 - (((1 - r_square )*(N - 1))/(N - p - 1))\n",
        "adj_r_square"
      ],
      "execution_count": null,
      "outputs": [
        {
          "output_type": "execute_result",
          "data": {
            "text/plain": [
              "0.6814634225875351"
            ]
          },
          "metadata": {},
          "execution_count": 494
        }
      ]
    },
    {
      "cell_type": "markdown",
      "metadata": {
        "id": "0g5bWR7KevKp"
      },
      "source": [
        "**Q:** What is the Adjusted $R^2$ value?\n",
        "\n",
        "**A:** 0.681\n"
      ]
    },
    {
      "cell_type": "markdown",
      "metadata": {
        "id": "MGiJbicSY0cB"
      },
      "source": [
        "---"
      ]
    },
    {
      "cell_type": "markdown",
      "metadata": {
        "id": "jdISoNS3dXv7"
      },
      "source": [
        "#### 5. Model Evaluation\n",
        "\n",
        "Build a multiple linear regression model  using `sklearn` module. Also, evaluate the model by calculating $R^2$, MSE, RMSE, and MAE values."
      ]
    },
    {
      "cell_type": "code",
      "metadata": {
        "id": "UasyrqoReltr",
        "colab": {
          "base_uri": "https://localhost:8080/"
        },
        "outputId": "b6e0dc1b-e912-44d0-fe23-079f8a0371a1"
      },
      "source": [
        "# Build multiple linear regression model using all the features\n",
        "from sklearn.linear_model import LinearRegression\n",
        "\n",
        "lin_reg_1 = LinearRegression()\n",
        "lin_reg_1.fit(x_train,y_train)\n",
        "print(lin_reg.params)"
      ],
      "execution_count": null,
      "outputs": [
        {
          "output_type": "stream",
          "name": "stdout",
          "text": [
            "const             -5.637280e+04\n",
            "area               2.532873e+02\n",
            "bedrooms           8.089314e+04\n",
            "bathrooms          1.114751e+06\n",
            "stories            4.172676e+05\n",
            "mainroad           4.080737e+05\n",
            "guestroom          2.757105e+05\n",
            "basement           4.826035e+05\n",
            "hotwaterheating    6.163754e+05\n",
            "airconditioning    6.858393e+05\n",
            "parking            3.031112e+05\n",
            "prefarea           5.091921e+05\n",
            "furnished          1.521570e+05\n",
            "semi-furnished     3.050437e+04\n",
            "unfurnished       -2.390342e+05\n",
            "dtype: float64\n"
          ]
        }
      ]
    },
    {
      "cell_type": "code",
      "metadata": {
        "id": "O_Jn8jYZe0AJ",
        "colab": {
          "base_uri": "https://localhost:8080/"
        },
        "outputId": "20ed1d06-f332-49ce-8a61-07ae57742a0d"
      },
      "source": [
        "# Evaluate the linear regression model using the 'r2_score', 'mean_squared_error' & 'mean_absolute_error' functions of the 'sklearn' module.\n",
        "from sklearn.metrics import  r2_score, mean_squared_error,mean_absolute_error, mean_squared_error\n",
        "y_train_pred = lin_reg_1.predict(x_train)\n",
        "y_test_pred = lin_reg_1.predict(x_test)\n",
        "\n",
        "print(f'R Sqaure: {r2_score(y_train,y_train_pred):4f}')\n",
        "print(f'MSE: {mean_squared_error(y_train,y_train_pred):4f}')\n",
        "print(f'MAE: {mean_absolute_error(y_train,y_train_pred):4f}')\n",
        "print(f'RMSE: {np.sqrt(mean_squared_error(y_train,y_train_pred)):4f}')\n",
        "print('\\nTest Dataset')\n",
        "print(f'R Sqaure: {r2_score(y_test,y_test_pred):4f}')\n",
        "print(f'MSE: {mean_squared_error(y_test,y_test_pred):4f}')\n",
        "print(f'MAE: {mean_absolute_error(y_test,y_test_pred):4f}')\n",
        "print(f'RMSE: {np.sqrt(mean_squared_error(y_test,y_test_pred)):4f}')"
      ],
      "execution_count": null,
      "outputs": [
        {
          "output_type": "stream",
          "name": "stdout",
          "text": [
            "R Sqaure: 0.693199\n",
            "MSE: 963835379828.359863\n",
            "MAE: 720245.198719\n",
            "RMSE: 981751.180202\n",
            "\n",
            "Test Dataset\n",
            "R Sqaure: 0.646335\n",
            "MSE: 1523019469501.291260\n",
            "MAE: 920392.939761\n",
            "RMSE: 1234106.749638\n"
          ]
        }
      ]
    },
    {
      "cell_type": "markdown",
      "metadata": {
        "id": "nzGwobReGzyj"
      },
      "source": [
        "**Q:** What is the $R^2$ value for train set and test set?\n",
        "\n",
        "**A:** 0.693 and 0.646"
      ]
    },
    {
      "cell_type": "markdown",
      "metadata": {
        "id": "JQjDiF7TY3NN"
      },
      "source": [
        "---"
      ]
    },
    {
      "cell_type": "markdown",
      "metadata": {
        "id": "LYr8UQBp6AlS"
      },
      "source": [
        "#### 6. Recursive Feature Elimination\n",
        "\n",
        "Find out the best features out of all features using RFE and evaluate the model again."
      ]
    },
    {
      "cell_type": "code",
      "metadata": {
        "id": "7I4LSmb0oew9",
        "colab": {
          "base_uri": "https://localhost:8080/"
        },
        "outputId": "e8eb2d5f-aff3-4c66-d74d-d3936b754c82"
      },
      "source": [
        "# Create a Python dictionary storing the moderately to highly correlated features with price and the corresponding correlation values.\n",
        "# Keep correlation threshold to be 0.2\n",
        "high_corr = {}\n",
        "for col in x_train.columns:\n",
        "  coef = np.corrcoef(df[col],df['price'])[0][1]\n",
        "  if coef > 0.2 or coef < -0.2:\n",
        "    high_corr[col] = coef\n",
        "print(high_corr)"
      ],
      "execution_count": null,
      "outputs": [
        {
          "output_type": "stream",
          "name": "stdout",
          "text": [
            "{'area': 0.5359973457780797, 'bedrooms': 0.3664940257738689, 'bathrooms': 0.517545339455011, 'stories': 0.42071236618861624, 'mainroad': 0.2968984892639764, 'guestroom': 0.2555172899349996, 'airconditioning': 0.4529540842560477, 'parking': 0.3843936486357259, 'prefarea': 0.3297770498681074, 'furnished': 0.22935031248433113, 'unfurnished': -0.28058735732512036}\n"
          ]
        }
      ]
    },
    {
      "cell_type": "code",
      "metadata": {
        "id": "VdSD1Jca7OuN",
        "colab": {
          "base_uri": "https://localhost:8080/"
        },
        "outputId": "631f68ca-cbbb-4808-ce39-76065f6122a2"
      },
      "source": [
        "# Perform RFE and select best 7 features  \n",
        "from sklearn.feature_selection import RFE\n",
        "from sklearn.linear_model import LinearRegression\n",
        "\n",
        "skl_lin_reg = LinearRegression()\n",
        "\n",
        "rfe = RFE(skl_lin_reg,n_features_to_select = 7)\n",
        "\n",
        "rfe.fit(x_train[corr_price.keys()],y_train)\n",
        "\n",
        "# Print the attributes.\n",
        "print(high_corr.keys())\n",
        "print(rfe.support_)\n",
        "print(rfe.ranking_)\n"
      ],
      "execution_count": null,
      "outputs": [
        {
          "output_type": "stream",
          "name": "stdout",
          "text": [
            "dict_keys(['area', 'bedrooms', 'bathrooms', 'stories', 'mainroad', 'guestroom', 'airconditioning', 'parking', 'prefarea', 'furnished', 'unfurnished'])\n",
            "[False False  True False  True  True  True  True  True False  True]\n",
            "[5 4 1 2 1 1 1 1 1 3 1]\n"
          ]
        }
      ]
    },
    {
      "cell_type": "code",
      "metadata": {
        "id": "vJLkGtFjxREU",
        "colab": {
          "base_uri": "https://localhost:8080/"
        },
        "outputId": "a88b8579-5648-49e1-f80d-324cce7eb0ed"
      },
      "source": [
        "# Print the 7 features selected by RFE in the previous step.\n",
        "rfe_features = x_train[high_corr.keys()].columns[rfe.support_]\n",
        "rfe_features\n"
      ],
      "execution_count": null,
      "outputs": [
        {
          "output_type": "execute_result",
          "data": {
            "text/plain": [
              "Index(['bathrooms', 'mainroad', 'guestroom', 'airconditioning', 'parking',\n",
              "       'prefarea', 'unfurnished'],\n",
              "      dtype='object')"
            ]
          },
          "metadata": {},
          "execution_count": 499
        }
      ]
    },
    {
      "cell_type": "code",
      "metadata": {
        "id": "D8SxpFJh7lFq",
        "colab": {
          "base_uri": "https://localhost:8080/"
        },
        "outputId": "cd033a83-0fb6-4b90-b927-4a96b2a34035"
      },
      "source": [
        "# Build multiple linear regression model using all the features selected after RFE\n",
        "\n",
        "# Split the DataFrame into the train and test sets such that test set has 33% of the values.\n",
        "x_train_2,x_test_2,y_train_2,y_test_2 = train_test_split(df[rfe_features],df['price'],test_size = 0.33,random_state = 42)\n",
        "\n",
        "# Build linear regression model using the 'sklearn.linear_model' module.\n",
        "lin_reg_2 = LinearRegression() \n",
        "lin_reg_2.fit(x_train_2,y_train_2)\n",
        "# Print the value of the intercept\n",
        "\n",
        "print(lin_reg_2.intercept_)\n",
        "\n",
        "# Print the names of the features along with the values of their corresponding coefficients.\n",
        "for i in range(len(rfe_features)):\n",
        "  print(f'{rfe_features[i]} : {lin_reg.params[i]}')\n"
      ],
      "execution_count": null,
      "outputs": [
        {
          "output_type": "stream",
          "name": "stdout",
          "text": [
            "1345359.6611008313\n",
            "bathrooms : -56372.804112372556\n",
            "mainroad : 253.28725231304736\n",
            "guestroom : 80893.14127100332\n",
            "airconditioning : 1114751.1778269694\n",
            "parking : 417267.5801083208\n",
            "prefarea : 408073.6819066014\n",
            "unfurnished : 275710.5330517473\n"
          ]
        }
      ]
    },
    {
      "cell_type": "code",
      "metadata": {
        "id": "2TL6w_uf7lDH",
        "colab": {
          "base_uri": "https://localhost:8080/"
        },
        "outputId": "ae37d592-b595-4003-9a60-1839e3a0fd94"
      },
      "source": [
        "# Evaluate the linear regression model using the 'r2_score', 'mean_squared_error' & 'mean_absolute_error' functions of the 'sklearn' module.\n",
        "from sklearn.metrics import r2_score, mean_squared_error, mean_absolute_error\n",
        "y_train_predict = lin_reg_2.predict(x_train_2)\n",
        "y_test_predict = lin_reg_2.predict(x_test_2)\n",
        "print('Train Dataset')\n",
        "print(f'R square: {r2_score(y_train_2,y_train_predict):3f}')\n",
        "print(f'MSE: {mean_squared_error(y_train_2,y_train_predict):3f}')\n",
        "print(f'MAE: {mean_absolute_error(y_train_2,y_train_predict):3f}')\n",
        "print(f'RMSE: {np.sqrt(mean_squared_error(y_train_2,y_train_predict)):3f}')\n",
        "\n",
        "print('\\nTest Dataset')\n",
        "print(f'R square: {r2_score(y_test_2,y_test_predict):3f}')\n",
        "print(f'MSE: {mean_squared_error(y_test_2,y_test_predict):3f}')\n",
        "print(f'MAE: {mean_absolute_error(y_test_2,y_test_predict):3f}')\n",
        "print(f'RMSE: {np.sqrt(mean_squared_error(y_test_2,y_test_predict)):3f}')"
      ],
      "execution_count": null,
      "outputs": [
        {
          "output_type": "stream",
          "name": "stdout",
          "text": [
            "Train Dataset\n",
            "R square: 0.582125\n",
            "MSE: 1293627387054.370117\n",
            "MAE: 832458.404472\n",
            "RMSE: 1137377.416276\n",
            "\n",
            "Test Dataset\n",
            "R square: 0.545970\n",
            "MSE: 1945845160950.812500\n",
            "MAE: 1028596.996554\n",
            "RMSE: 1394935.540070\n"
          ]
        }
      ]
    },
    {
      "cell_type": "markdown",
      "metadata": {
        "id": "7ctl1HKaY6Uy"
      },
      "source": [
        "---"
      ]
    },
    {
      "cell_type": "markdown",
      "metadata": {
        "id": "O8Y3O5R88IrL"
      },
      "source": [
        "#### 7. Residual (Error) Analysis\n",
        "\n",
        "Perform residual analysis to check if the residuals (errors) are normally distributed or not. For this, plot the  histogram of the residuals."
      ]
    },
    {
      "cell_type": "code",
      "metadata": {
        "id": "mYF-WdWn8QmU",
        "colab": {
          "base_uri": "https://localhost:8080/",
          "height": 444
        },
        "outputId": "096b0468-0d8a-4050-d8a5-43267ee1ca02"
      },
      "source": [
        "# Create a histogram for the errors obtained in the predicted values for the train set.\n",
        "train_errors = y_train_2 - y_train_predict\n",
        "plt.figure(figsize=(16,7))\n",
        "plt.hist(train_errors,bins = 'sturges',edgecolor = 'black')\n",
        "plt.axvline(train_errors.mean(),color = 'red', label = f'Mean error: {train_errors.mean()}')\n",
        "plt.legend()\n",
        "plt.show()\n"
      ],
      "execution_count": null,
      "outputs": [
        {
          "output_type": "display_data",
          "data": {
            "image/png": "[encoded data removed]",
            "text/plain": [
              "<Figure size 1152x504 with 1 Axes>"
            ]
          },
          "metadata": {
            "needs_background": "light"
          }
        }
      ]
    },
    {
      "cell_type": "code",
      "metadata": {
        "id": "RJv_gr1N8T5U",
        "colab": {
          "base_uri": "https://localhost:8080/",
          "height": 441
        },
        "outputId": "1c4fa701-9934-434e-c939-2f185d686d53"
      },
      "source": [
        "# Create a histogram for the errors obtained in the predicted values for the test set.\n",
        "test_errors = y_test_2 - y_test_predict\n",
        "plt.figure(figsize=(16,7))\n",
        "plt.hist(test_errors,bins = 'sturges',edgecolor = 'black')\n",
        "plt.axvline(test_errors.mean(),color = 'red', label = f'Mean error: {test_errors.mean()}')\n",
        "plt.legend()\n",
        "plt.show()"
      ],
      "execution_count": null,
      "outputs": [
        {
          "output_type": "display_data",
          "data": {
            "image/png": "[encoded data removed]",
            "text/plain": [
              "<Figure size 1152x504 with 1 Axes>"
            ]
          },
          "metadata": {
            "needs_background": "light"
          }
        }
      ]
    },
    {
      "cell_type": "markdown",
      "metadata": {
        "id": "_-uMjpUMY932"
      },
      "source": [
        "---"
      ]
    },
    {
      "cell_type": "markdown",
      "metadata": {
        "id": "LMZN8NeX8rde"
      },
      "source": [
        "#### 8. Verify Homoscedasticity \n",
        "\n",
        "Check for Homoscedasticity (constant variance) by creating a scatter plot between the errors and the target variable. Determine whether there is some kind of relationship between the error and the target variable."
      ]
    },
    {
      "cell_type": "code",
      "metadata": {
        "id": "uptEDE578wjm",
        "colab": {
          "base_uri": "https://localhost:8080/",
          "height": 452
        },
        "outputId": "b05f8be4-02f2-493b-f208-8d9a34dccccd"
      },
      "source": [
        "# Create a scatter plot between the errors and the dependent variable for the train set.\n",
        "plt.figure(figsize=(16,7))\n",
        "plt.scatter(y_train_2,train_errors)\n",
        "plt.show()"
      ],
      "execution_count": null,
      "outputs": [
        {
          "output_type": "display_data",
          "data": {
            "image/png": "[encoded data removed]",
            "text/plain": [
              "<Figure size 1152x504 with 1 Axes>"
            ]
          },
          "metadata": {
            "needs_background": "light"
          }
        }
      ]
    },
    {
      "cell_type": "markdown",
      "metadata": {
        "id": "ydTo7_b5JMpu"
      },
      "source": [
        "---"
      ]
    }
  ]
}